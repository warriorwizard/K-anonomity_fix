{
  "cells": [
    {
      "cell_type": "markdown",
      "metadata": {
        "id": "C_WUjQV5JiRS"
      },
      "source": [
        "# k-Anonymity\n",
        "\n",
        "In this notebook, we'll explore data anonymization, in particular \"k-anonymity\" [1]. We will implement a simple algorithm [2] to produce a k-anonymous dataset.\n",
        "\n",
        "For more reading on the topic, please see: \n",
        "\n",
        "- [k-Anonymity: A Model For Protecting Privacy. Latanya Sweeney](https://epic.org/privacy/reidentification/Sweeney_Article.pdf)\n",
        "- [Mondrian - Multidimensional k-Anonymity](https://www.utdallas.edu/~muratk/courses/privacy08f_files/MultiDim.pdf)\n",
        "\n",
        "## Introduction\n",
        "\n",
        "\n",
        "k-anonymity protects the privacy of individual persons by pooling their attributes into groups of at least $k$ people. The method is based on the assumption that we have a dataset that contains $N$ entries. Each entry consists of a list of $D$ attributes $X_i$ ($i \\in [0,D]$) that contain (non-sensitive) information about a person, such as age, gender, zip code of residence, etc. These attributes are called \"quasi-identifiers\", as combining several of them into a \"super-identifier\" can often uniquely identify a person even in large datasets (e.g. the combination of gender, age and zip code might be so specific that only a single person in a dataset has a given combination). In addition, the model assumes that the dataset contains a single sensitive attribute that contains e.g. information about a person's income and that we want to protect. The method can also be generalized to datasets with more than one sensitive attribute or datasets where there's no clear distinction between quasi-identifiers and sensitive attributes. For this case study we will look at the simple case though.\n",
        "\n",
        "Now, k-anonymity demands that we group individual rows/persons of our dataset into group of at least $k$ rows/persons and replace the quasi-identifier attributes of these rows with aggregate quantities, such that it is no longer possible to read the individual values. This protects people by ensuring that an adversary who knows all values of a person's quasi-identifier attributes can only find out which group a person might belong to but not know if the person is really in the dataset.\n",
        "\n",
        "A large problem of this approach is that it might happen that all people in a k-anonymous group possess the same value of the sensitive attribute. An adversary who knows that a person is in that k-anonymous group can then still learn the value of the sensitive attribute of that person with absolute certainty. This problem can be fixed by using an extension of k-anonymity called \"l-diversity\": l-diversity ensures that each k-anonymous group contains at least l different values of the sensitive attribute. Therefore, evne if an adversary can identify the group of a person he/she still would not be able to find out the value of that person's sensitive attribute with certainty. \n",
        "\n",
        "However, even when using l-diversity an adversary could still learn some information about a person's sensitive attribute using probabilistic reasoning: If, for example, 4 out of 5 people in a 5-anonymous group possess a given value of the sensitive attribute, an attacker can reason that a given person who he/she knows is part of the group will -with high probability- possess that value. Again, this problem can be fixed by extending k-anonymity using a so-called \"t-closeness\" criterion: t-closeness demands that the statistical distribution of the sensitive attribute values in each k-anonymous group is \"close\" to the overall distribution of that attribute in the entire dataset. Typically, the closeness can be measured using e.g. the Kullback-Leibler (KL) divergence. An adversary could then only learn a limited amount of information from comparing the distribution of the values in the group to the distribution in the entire dataset.\n",
        "\n",
        "Of course, k-anonymity, l-diversity and t-closeness all limit the amount of information that a legitimate user can learn from the data as well, so typically we need to balance the degree of privacy against the utility of the resulting data.\n",
        "\n",
        "## Implementing k-anonymity\n",
        "\n",
        "Turning a dataset into a k-anonymous (and possibly l-diverse or t-close) dataset is a complex problem, and finding the optimal partition into k-anonymous groups is an NP-hard problem. Fortunately, several practical algorithms exists that often produce \"good enough\" results by employing greedy search techniques.\n",
        "\n",
        "In this tutorial we will explore the so-called \"Mondrian\" algorithm (see link above), which uses a greedy search algorithm to parition the original data into smaller and smaller groups (if we plot the resulting partition boundaries in 2D they resemble the pictures by Piet Mondrian, hence the name).\n",
        "\n",
        "The algorithm assumes that we have converted all attributes into numerical or categorical values and that we're able to measure the \"span\" of a given data attribute $X_i$ (we'll explain that in more detail later).\n",
        "\n",
        "### Partitioning\n",
        "\n",
        "The algorithm proceeds then as follows to partition the data into k-anonymous gorups:\n",
        "\n",
        "1. Initialize the finished set of partitions to an empty set $P_{finished} = \\{\\}$.\n",
        "2. Initialize the working set of paritions to a set containing a partition with the entire dataset $P_{working} = \\{\\{1, 2,\\dots ,N\\}\\}$.\n",
        "4. While there are partitions in the working set, pop one partition from it and\n",
        "  * Calculate the relative spans of all columns in the partition.\n",
        "  * Sort the resulting columns by their span (in descending order) and iterate over them. For each column,\n",
        "      * Try to split the partition along that column using the median of the column values as the split point.\n",
        "      * Check if the resulting partitions are valid according to our k-anonymity (and possibly additional) criteria.\n",
        "      * If yes, add the two new partitions to the working set and break out of the loop.\n",
        "  * If no column produced a valid split, add the original partition to the set of finished partitions.\n",
        "5. Return the finished set of partitions\n",
        "\n",
        "### Data Aggregation\n",
        "\n",
        "After obtaining the partitions we still need to aggregate the values of the quasi identifiers and the sensitive attributes in each k-anonymous group. For this, we can e.g. replace numerical attributes with their range (e.g. \"age: 24-28\") and categorical attributes with their union (e.g. \"employment-group: [self-employed, employee, worker]\"), though other aggregations are possible. Methods like [Anatomy](http://citeseerx.ist.psu.edu/viewdoc/download?doi=10.1.1.156.9150&rep=rep1&type=pdf) even preserve the micro-data in each group, which increases re-identification risk though.\n",
        "\n",
        "## Usage of the Anonymized Data\n",
        "\n",
        "We can then use the anonymized data for privacy-preserving machine learning, e.g. using scikit-learn. If we have time at the end of this part we'll cover this as well. With the dataset generation method discussed here you can use the resulting datasets just as you would use a normal dataset though, so there's really nothing special about the anonymized data here.\n",
        "\n",
        "Let's get started with the anonymization!"
      ]
    },
    {
      "cell_type": "code",
      "execution_count": 1,
      "metadata": {
        "colab": {
          "base_uri": "https://localhost:8080/"
        },
        "id": "UJU4-syxKOMK",
        "outputId": "e2f82faa-fb56-4321-e0df-e5d920f82473"
      },
      "outputs": [],
      "source": [
        "# from google.colab import drive\n",
        "# drive.mount('/content/gdrive')"
      ]
    },
    {
      "cell_type": "code",
      "execution_count": null,
      "metadata": {
        "id": "qVOKPad2Lo2f"
      },
      "outputs": [],
      "source": []
    },
    {
      "cell_type": "code",
      "execution_count": 5,
      "metadata": {
        "id": "vhphfQ8VJiRj"
      },
      "outputs": [
        {
          "ename": "OSError",
          "evalue": "[Errno 22] Invalid argument: '.\\\\data\\\\k-anonymity\\x07dult.all.txt'",
          "output_type": "error",
          "traceback": [
            "\u001b[1;31m---------------------------------------------------------------------------\u001b[0m",
            "\u001b[1;31mOSError\u001b[0m                                   Traceback (most recent call last)",
            "\u001b[1;32md:\\k anonymous\\new_k_Anonymity_new_data.ipynb Cell 4'\u001b[0m in \u001b[0;36m<module>\u001b[1;34m\u001b[0m\n\u001b[0;32m      <a href='vscode-notebook-cell:/d%3A/k%20anonymous/new_k_Anonymity_new_data.ipynb#ch0000003?line=0'>1</a>\u001b[0m \u001b[39m# we use Pandas to work with the data as it makes working with categorical data very easy\u001b[39;00m\n\u001b[0;32m      <a href='vscode-notebook-cell:/d%3A/k%20anonymous/new_k_Anonymity_new_data.ipynb#ch0000003?line=1'>2</a>\u001b[0m \u001b[39mimport\u001b[39;00m \u001b[39mpandas\u001b[39;00m \u001b[39mas\u001b[39;00m \u001b[39mpd\u001b[39;00m\n\u001b[1;32m----> <a href='vscode-notebook-cell:/d%3A/k%20anonymous/new_k_Anonymity_new_data.ipynb#ch0000003?line=2'>3</a>\u001b[0m df\u001b[39m=\u001b[39mpd\u001b[39m.\u001b[39;49mread_csv(\u001b[39m'\u001b[39;49m\u001b[39m.\u001b[39;49m\u001b[39m\\\u001b[39;49m\u001b[39mdata\u001b[39;49m\u001b[39m\\\u001b[39;49m\u001b[39mk-anonymity\u001b[39;49m\u001b[39m\\a\u001b[39;49;00m\u001b[39mdult.all.txt\u001b[39;49m\u001b[39m'\u001b[39;49m)\n",
            "File \u001b[1;32m~\\AppData\\Local\\Programs\\Python\\Python38\\lib\\site-packages\\pandas\\util\\_decorators.py:311\u001b[0m, in \u001b[0;36mdeprecate_nonkeyword_arguments.<locals>.decorate.<locals>.wrapper\u001b[1;34m(*args, **kwargs)\u001b[0m\n\u001b[0;32m    <a href='file:///c%3A/Users/Amit%20Yadav/AppData/Local/Programs/Python/Python38/lib/site-packages/pandas/util/_decorators.py?line=304'>305</a>\u001b[0m \u001b[39mif\u001b[39;00m \u001b[39mlen\u001b[39m(args) \u001b[39m>\u001b[39m num_allow_args:\n\u001b[0;32m    <a href='file:///c%3A/Users/Amit%20Yadav/AppData/Local/Programs/Python/Python38/lib/site-packages/pandas/util/_decorators.py?line=305'>306</a>\u001b[0m     warnings\u001b[39m.\u001b[39mwarn(\n\u001b[0;32m    <a href='file:///c%3A/Users/Amit%20Yadav/AppData/Local/Programs/Python/Python38/lib/site-packages/pandas/util/_decorators.py?line=306'>307</a>\u001b[0m         msg\u001b[39m.\u001b[39mformat(arguments\u001b[39m=\u001b[39marguments),\n\u001b[0;32m    <a href='file:///c%3A/Users/Amit%20Yadav/AppData/Local/Programs/Python/Python38/lib/site-packages/pandas/util/_decorators.py?line=307'>308</a>\u001b[0m         \u001b[39mFutureWarning\u001b[39;00m,\n\u001b[0;32m    <a href='file:///c%3A/Users/Amit%20Yadav/AppData/Local/Programs/Python/Python38/lib/site-packages/pandas/util/_decorators.py?line=308'>309</a>\u001b[0m         stacklevel\u001b[39m=\u001b[39mstacklevel,\n\u001b[0;32m    <a href='file:///c%3A/Users/Amit%20Yadav/AppData/Local/Programs/Python/Python38/lib/site-packages/pandas/util/_decorators.py?line=309'>310</a>\u001b[0m     )\n\u001b[1;32m--> <a href='file:///c%3A/Users/Amit%20Yadav/AppData/Local/Programs/Python/Python38/lib/site-packages/pandas/util/_decorators.py?line=310'>311</a>\u001b[0m \u001b[39mreturn\u001b[39;00m func(\u001b[39m*\u001b[39;49margs, \u001b[39m*\u001b[39;49m\u001b[39m*\u001b[39;49mkwargs)\n",
            "File \u001b[1;32m~\\AppData\\Local\\Programs\\Python\\Python38\\lib\\site-packages\\pandas\\io\\parsers\\readers.py:680\u001b[0m, in \u001b[0;36mread_csv\u001b[1;34m(filepath_or_buffer, sep, delimiter, header, names, index_col, usecols, squeeze, prefix, mangle_dupe_cols, dtype, engine, converters, true_values, false_values, skipinitialspace, skiprows, skipfooter, nrows, na_values, keep_default_na, na_filter, verbose, skip_blank_lines, parse_dates, infer_datetime_format, keep_date_col, date_parser, dayfirst, cache_dates, iterator, chunksize, compression, thousands, decimal, lineterminator, quotechar, quoting, doublequote, escapechar, comment, encoding, encoding_errors, dialect, error_bad_lines, warn_bad_lines, on_bad_lines, delim_whitespace, low_memory, memory_map, float_precision, storage_options)\u001b[0m\n\u001b[0;32m    <a href='file:///c%3A/Users/Amit%20Yadav/AppData/Local/Programs/Python/Python38/lib/site-packages/pandas/io/parsers/readers.py?line=664'>665</a>\u001b[0m kwds_defaults \u001b[39m=\u001b[39m _refine_defaults_read(\n\u001b[0;32m    <a href='file:///c%3A/Users/Amit%20Yadav/AppData/Local/Programs/Python/Python38/lib/site-packages/pandas/io/parsers/readers.py?line=665'>666</a>\u001b[0m     dialect,\n\u001b[0;32m    <a href='file:///c%3A/Users/Amit%20Yadav/AppData/Local/Programs/Python/Python38/lib/site-packages/pandas/io/parsers/readers.py?line=666'>667</a>\u001b[0m     delimiter,\n\u001b[1;32m   (...)\u001b[0m\n\u001b[0;32m    <a href='file:///c%3A/Users/Amit%20Yadav/AppData/Local/Programs/Python/Python38/lib/site-packages/pandas/io/parsers/readers.py?line=675'>676</a>\u001b[0m     defaults\u001b[39m=\u001b[39m{\u001b[39m\"\u001b[39m\u001b[39mdelimiter\u001b[39m\u001b[39m\"\u001b[39m: \u001b[39m\"\u001b[39m\u001b[39m,\u001b[39m\u001b[39m\"\u001b[39m},\n\u001b[0;32m    <a href='file:///c%3A/Users/Amit%20Yadav/AppData/Local/Programs/Python/Python38/lib/site-packages/pandas/io/parsers/readers.py?line=676'>677</a>\u001b[0m )\n\u001b[0;32m    <a href='file:///c%3A/Users/Amit%20Yadav/AppData/Local/Programs/Python/Python38/lib/site-packages/pandas/io/parsers/readers.py?line=677'>678</a>\u001b[0m kwds\u001b[39m.\u001b[39mupdate(kwds_defaults)\n\u001b[1;32m--> <a href='file:///c%3A/Users/Amit%20Yadav/AppData/Local/Programs/Python/Python38/lib/site-packages/pandas/io/parsers/readers.py?line=679'>680</a>\u001b[0m \u001b[39mreturn\u001b[39;00m _read(filepath_or_buffer, kwds)\n",
            "File \u001b[1;32m~\\AppData\\Local\\Programs\\Python\\Python38\\lib\\site-packages\\pandas\\io\\parsers\\readers.py:575\u001b[0m, in \u001b[0;36m_read\u001b[1;34m(filepath_or_buffer, kwds)\u001b[0m\n\u001b[0;32m    <a href='file:///c%3A/Users/Amit%20Yadav/AppData/Local/Programs/Python/Python38/lib/site-packages/pandas/io/parsers/readers.py?line=571'>572</a>\u001b[0m _validate_names(kwds\u001b[39m.\u001b[39mget(\u001b[39m\"\u001b[39m\u001b[39mnames\u001b[39m\u001b[39m\"\u001b[39m, \u001b[39mNone\u001b[39;00m))\n\u001b[0;32m    <a href='file:///c%3A/Users/Amit%20Yadav/AppData/Local/Programs/Python/Python38/lib/site-packages/pandas/io/parsers/readers.py?line=573'>574</a>\u001b[0m \u001b[39m# Create the parser.\u001b[39;00m\n\u001b[1;32m--> <a href='file:///c%3A/Users/Amit%20Yadav/AppData/Local/Programs/Python/Python38/lib/site-packages/pandas/io/parsers/readers.py?line=574'>575</a>\u001b[0m parser \u001b[39m=\u001b[39m TextFileReader(filepath_or_buffer, \u001b[39m*\u001b[39;49m\u001b[39m*\u001b[39;49mkwds)\n\u001b[0;32m    <a href='file:///c%3A/Users/Amit%20Yadav/AppData/Local/Programs/Python/Python38/lib/site-packages/pandas/io/parsers/readers.py?line=576'>577</a>\u001b[0m \u001b[39mif\u001b[39;00m chunksize \u001b[39mor\u001b[39;00m iterator:\n\u001b[0;32m    <a href='file:///c%3A/Users/Amit%20Yadav/AppData/Local/Programs/Python/Python38/lib/site-packages/pandas/io/parsers/readers.py?line=577'>578</a>\u001b[0m     \u001b[39mreturn\u001b[39;00m parser\n",
            "File \u001b[1;32m~\\AppData\\Local\\Programs\\Python\\Python38\\lib\\site-packages\\pandas\\io\\parsers\\readers.py:933\u001b[0m, in \u001b[0;36mTextFileReader.__init__\u001b[1;34m(self, f, engine, **kwds)\u001b[0m\n\u001b[0;32m    <a href='file:///c%3A/Users/Amit%20Yadav/AppData/Local/Programs/Python/Python38/lib/site-packages/pandas/io/parsers/readers.py?line=929'>930</a>\u001b[0m     \u001b[39mself\u001b[39m\u001b[39m.\u001b[39moptions[\u001b[39m\"\u001b[39m\u001b[39mhas_index_names\u001b[39m\u001b[39m\"\u001b[39m] \u001b[39m=\u001b[39m kwds[\u001b[39m\"\u001b[39m\u001b[39mhas_index_names\u001b[39m\u001b[39m\"\u001b[39m]\n\u001b[0;32m    <a href='file:///c%3A/Users/Amit%20Yadav/AppData/Local/Programs/Python/Python38/lib/site-packages/pandas/io/parsers/readers.py?line=931'>932</a>\u001b[0m \u001b[39mself\u001b[39m\u001b[39m.\u001b[39mhandles: IOHandles \u001b[39m|\u001b[39m \u001b[39mNone\u001b[39;00m \u001b[39m=\u001b[39m \u001b[39mNone\u001b[39;00m\n\u001b[1;32m--> <a href='file:///c%3A/Users/Amit%20Yadav/AppData/Local/Programs/Python/Python38/lib/site-packages/pandas/io/parsers/readers.py?line=932'>933</a>\u001b[0m \u001b[39mself\u001b[39m\u001b[39m.\u001b[39m_engine \u001b[39m=\u001b[39m \u001b[39mself\u001b[39;49m\u001b[39m.\u001b[39;49m_make_engine(f, \u001b[39mself\u001b[39;49m\u001b[39m.\u001b[39;49mengine)\n",
            "File \u001b[1;32m~\\AppData\\Local\\Programs\\Python\\Python38\\lib\\site-packages\\pandas\\io\\parsers\\readers.py:1217\u001b[0m, in \u001b[0;36mTextFileReader._make_engine\u001b[1;34m(self, f, engine)\u001b[0m\n\u001b[0;32m   <a href='file:///c%3A/Users/Amit%20Yadav/AppData/Local/Programs/Python/Python38/lib/site-packages/pandas/io/parsers/readers.py?line=1212'>1213</a>\u001b[0m     mode \u001b[39m=\u001b[39m \u001b[39m\"\u001b[39m\u001b[39mrb\u001b[39m\u001b[39m\"\u001b[39m\n\u001b[0;32m   <a href='file:///c%3A/Users/Amit%20Yadav/AppData/Local/Programs/Python/Python38/lib/site-packages/pandas/io/parsers/readers.py?line=1213'>1214</a>\u001b[0m \u001b[39m# error: No overload variant of \"get_handle\" matches argument types\u001b[39;00m\n\u001b[0;32m   <a href='file:///c%3A/Users/Amit%20Yadav/AppData/Local/Programs/Python/Python38/lib/site-packages/pandas/io/parsers/readers.py?line=1214'>1215</a>\u001b[0m \u001b[39m# \"Union[str, PathLike[str], ReadCsvBuffer[bytes], ReadCsvBuffer[str]]\"\u001b[39;00m\n\u001b[0;32m   <a href='file:///c%3A/Users/Amit%20Yadav/AppData/Local/Programs/Python/Python38/lib/site-packages/pandas/io/parsers/readers.py?line=1215'>1216</a>\u001b[0m \u001b[39m# , \"str\", \"bool\", \"Any\", \"Any\", \"Any\", \"Any\", \"Any\"\u001b[39;00m\n\u001b[1;32m-> <a href='file:///c%3A/Users/Amit%20Yadav/AppData/Local/Programs/Python/Python38/lib/site-packages/pandas/io/parsers/readers.py?line=1216'>1217</a>\u001b[0m \u001b[39mself\u001b[39m\u001b[39m.\u001b[39mhandles \u001b[39m=\u001b[39m get_handle(  \u001b[39m# type: ignore[call-overload]\u001b[39;49;00m\n\u001b[0;32m   <a href='file:///c%3A/Users/Amit%20Yadav/AppData/Local/Programs/Python/Python38/lib/site-packages/pandas/io/parsers/readers.py?line=1217'>1218</a>\u001b[0m     f,\n\u001b[0;32m   <a href='file:///c%3A/Users/Amit%20Yadav/AppData/Local/Programs/Python/Python38/lib/site-packages/pandas/io/parsers/readers.py?line=1218'>1219</a>\u001b[0m     mode,\n\u001b[0;32m   <a href='file:///c%3A/Users/Amit%20Yadav/AppData/Local/Programs/Python/Python38/lib/site-packages/pandas/io/parsers/readers.py?line=1219'>1220</a>\u001b[0m     encoding\u001b[39m=\u001b[39;49m\u001b[39mself\u001b[39;49m\u001b[39m.\u001b[39;49moptions\u001b[39m.\u001b[39;49mget(\u001b[39m\"\u001b[39;49m\u001b[39mencoding\u001b[39;49m\u001b[39m\"\u001b[39;49m, \u001b[39mNone\u001b[39;49;00m),\n\u001b[0;32m   <a href='file:///c%3A/Users/Amit%20Yadav/AppData/Local/Programs/Python/Python38/lib/site-packages/pandas/io/parsers/readers.py?line=1220'>1221</a>\u001b[0m     compression\u001b[39m=\u001b[39;49m\u001b[39mself\u001b[39;49m\u001b[39m.\u001b[39;49moptions\u001b[39m.\u001b[39;49mget(\u001b[39m\"\u001b[39;49m\u001b[39mcompression\u001b[39;49m\u001b[39m\"\u001b[39;49m, \u001b[39mNone\u001b[39;49;00m),\n\u001b[0;32m   <a href='file:///c%3A/Users/Amit%20Yadav/AppData/Local/Programs/Python/Python38/lib/site-packages/pandas/io/parsers/readers.py?line=1221'>1222</a>\u001b[0m     memory_map\u001b[39m=\u001b[39;49m\u001b[39mself\u001b[39;49m\u001b[39m.\u001b[39;49moptions\u001b[39m.\u001b[39;49mget(\u001b[39m\"\u001b[39;49m\u001b[39mmemory_map\u001b[39;49m\u001b[39m\"\u001b[39;49m, \u001b[39mFalse\u001b[39;49;00m),\n\u001b[0;32m   <a href='file:///c%3A/Users/Amit%20Yadav/AppData/Local/Programs/Python/Python38/lib/site-packages/pandas/io/parsers/readers.py?line=1222'>1223</a>\u001b[0m     is_text\u001b[39m=\u001b[39;49mis_text,\n\u001b[0;32m   <a href='file:///c%3A/Users/Amit%20Yadav/AppData/Local/Programs/Python/Python38/lib/site-packages/pandas/io/parsers/readers.py?line=1223'>1224</a>\u001b[0m     errors\u001b[39m=\u001b[39;49m\u001b[39mself\u001b[39;49m\u001b[39m.\u001b[39;49moptions\u001b[39m.\u001b[39;49mget(\u001b[39m\"\u001b[39;49m\u001b[39mencoding_errors\u001b[39;49m\u001b[39m\"\u001b[39;49m, \u001b[39m\"\u001b[39;49m\u001b[39mstrict\u001b[39;49m\u001b[39m\"\u001b[39;49m),\n\u001b[0;32m   <a href='file:///c%3A/Users/Amit%20Yadav/AppData/Local/Programs/Python/Python38/lib/site-packages/pandas/io/parsers/readers.py?line=1224'>1225</a>\u001b[0m     storage_options\u001b[39m=\u001b[39;49m\u001b[39mself\u001b[39;49m\u001b[39m.\u001b[39;49moptions\u001b[39m.\u001b[39;49mget(\u001b[39m\"\u001b[39;49m\u001b[39mstorage_options\u001b[39;49m\u001b[39m\"\u001b[39;49m, \u001b[39mNone\u001b[39;49;00m),\n\u001b[0;32m   <a href='file:///c%3A/Users/Amit%20Yadav/AppData/Local/Programs/Python/Python38/lib/site-packages/pandas/io/parsers/readers.py?line=1225'>1226</a>\u001b[0m )\n\u001b[0;32m   <a href='file:///c%3A/Users/Amit%20Yadav/AppData/Local/Programs/Python/Python38/lib/site-packages/pandas/io/parsers/readers.py?line=1226'>1227</a>\u001b[0m \u001b[39massert\u001b[39;00m \u001b[39mself\u001b[39m\u001b[39m.\u001b[39mhandles \u001b[39mis\u001b[39;00m \u001b[39mnot\u001b[39;00m \u001b[39mNone\u001b[39;00m\n\u001b[0;32m   <a href='file:///c%3A/Users/Amit%20Yadav/AppData/Local/Programs/Python/Python38/lib/site-packages/pandas/io/parsers/readers.py?line=1227'>1228</a>\u001b[0m f \u001b[39m=\u001b[39m \u001b[39mself\u001b[39m\u001b[39m.\u001b[39mhandles\u001b[39m.\u001b[39mhandle\n",
            "File \u001b[1;32m~\\AppData\\Local\\Programs\\Python\\Python38\\lib\\site-packages\\pandas\\io\\common.py:789\u001b[0m, in \u001b[0;36mget_handle\u001b[1;34m(path_or_buf, mode, encoding, compression, memory_map, is_text, errors, storage_options)\u001b[0m\n\u001b[0;32m    <a href='file:///c%3A/Users/Amit%20Yadav/AppData/Local/Programs/Python/Python38/lib/site-packages/pandas/io/common.py?line=783'>784</a>\u001b[0m \u001b[39melif\u001b[39;00m \u001b[39misinstance\u001b[39m(handle, \u001b[39mstr\u001b[39m):\n\u001b[0;32m    <a href='file:///c%3A/Users/Amit%20Yadav/AppData/Local/Programs/Python/Python38/lib/site-packages/pandas/io/common.py?line=784'>785</a>\u001b[0m     \u001b[39m# Check whether the filename is to be opened in binary mode.\u001b[39;00m\n\u001b[0;32m    <a href='file:///c%3A/Users/Amit%20Yadav/AppData/Local/Programs/Python/Python38/lib/site-packages/pandas/io/common.py?line=785'>786</a>\u001b[0m     \u001b[39m# Binary mode does not support 'encoding' and 'newline'.\u001b[39;00m\n\u001b[0;32m    <a href='file:///c%3A/Users/Amit%20Yadav/AppData/Local/Programs/Python/Python38/lib/site-packages/pandas/io/common.py?line=786'>787</a>\u001b[0m     \u001b[39mif\u001b[39;00m ioargs\u001b[39m.\u001b[39mencoding \u001b[39mand\u001b[39;00m \u001b[39m\"\u001b[39m\u001b[39mb\u001b[39m\u001b[39m\"\u001b[39m \u001b[39mnot\u001b[39;00m \u001b[39min\u001b[39;00m ioargs\u001b[39m.\u001b[39mmode:\n\u001b[0;32m    <a href='file:///c%3A/Users/Amit%20Yadav/AppData/Local/Programs/Python/Python38/lib/site-packages/pandas/io/common.py?line=787'>788</a>\u001b[0m         \u001b[39m# Encoding\u001b[39;00m\n\u001b[1;32m--> <a href='file:///c%3A/Users/Amit%20Yadav/AppData/Local/Programs/Python/Python38/lib/site-packages/pandas/io/common.py?line=788'>789</a>\u001b[0m         handle \u001b[39m=\u001b[39m \u001b[39mopen\u001b[39;49m(\n\u001b[0;32m    <a href='file:///c%3A/Users/Amit%20Yadav/AppData/Local/Programs/Python/Python38/lib/site-packages/pandas/io/common.py?line=789'>790</a>\u001b[0m             handle,\n\u001b[0;32m    <a href='file:///c%3A/Users/Amit%20Yadav/AppData/Local/Programs/Python/Python38/lib/site-packages/pandas/io/common.py?line=790'>791</a>\u001b[0m             ioargs\u001b[39m.\u001b[39;49mmode,\n\u001b[0;32m    <a href='file:///c%3A/Users/Amit%20Yadav/AppData/Local/Programs/Python/Python38/lib/site-packages/pandas/io/common.py?line=791'>792</a>\u001b[0m             encoding\u001b[39m=\u001b[39;49mioargs\u001b[39m.\u001b[39;49mencoding,\n\u001b[0;32m    <a href='file:///c%3A/Users/Amit%20Yadav/AppData/Local/Programs/Python/Python38/lib/site-packages/pandas/io/common.py?line=792'>793</a>\u001b[0m             errors\u001b[39m=\u001b[39;49merrors,\n\u001b[0;32m    <a href='file:///c%3A/Users/Amit%20Yadav/AppData/Local/Programs/Python/Python38/lib/site-packages/pandas/io/common.py?line=793'>794</a>\u001b[0m             newline\u001b[39m=\u001b[39;49m\u001b[39m\"\u001b[39;49m\u001b[39m\"\u001b[39;49m,\n\u001b[0;32m    <a href='file:///c%3A/Users/Amit%20Yadav/AppData/Local/Programs/Python/Python38/lib/site-packages/pandas/io/common.py?line=794'>795</a>\u001b[0m         )\n\u001b[0;32m    <a href='file:///c%3A/Users/Amit%20Yadav/AppData/Local/Programs/Python/Python38/lib/site-packages/pandas/io/common.py?line=795'>796</a>\u001b[0m     \u001b[39melse\u001b[39;00m:\n\u001b[0;32m    <a href='file:///c%3A/Users/Amit%20Yadav/AppData/Local/Programs/Python/Python38/lib/site-packages/pandas/io/common.py?line=796'>797</a>\u001b[0m         \u001b[39m# Binary mode\u001b[39;00m\n\u001b[0;32m    <a href='file:///c%3A/Users/Amit%20Yadav/AppData/Local/Programs/Python/Python38/lib/site-packages/pandas/io/common.py?line=797'>798</a>\u001b[0m         handle \u001b[39m=\u001b[39m \u001b[39mopen\u001b[39m(handle, ioargs\u001b[39m.\u001b[39mmode)\n",
            "\u001b[1;31mOSError\u001b[0m: [Errno 22] Invalid argument: '.\\\\data\\\\k-anonymity\\x07dult.all.txt'"
          ]
        }
      ],
      "source": [
        "# we use Pandas to work with the data as it makes working with categorical data very easy\n",
        "import pandas as pd\n",
        "df=pd.read_csv('.\\data\\k-anonymity\\adult.all.txt')"
      ]
    },
    {
      "cell_type": "code",
      "execution_count": null,
      "metadata": {
        "id": "XE0nmZv1JiRl"
      },
      "outputs": [],
      "source": [
        "# this is a list of the column names in our dataset (as the file doesn't contain any headers)\n",
        "names = (\n",
        "    'age',\n",
        "    'workclass', #Private, Self-emp-not-inc, Self-emp-inc, Federal-gov, Local-gov, State-gov, Without-pay, Never-worked.\n",
        "    'fnlwgt', # \"weight\" of that person in the dataset (i.e. how many people does that person represent) -> https://www.kansascityfed.org/research/datamuseum/cps/coreinfo/keyconcepts/weights\n",
        "    'education',\n",
        "    'education-num',\n",
        "    'marital-status',\n",
        "    'occupation',\n",
        "    'relationship',\n",
        "    'race',\n",
        "    'sex',\n",
        "    'capital-gain',\n",
        "    'capital-loss',\n",
        "    'hours-per-week',\n",
        "    'native-country',\n",
        "    'income',\n",
        ")\n",
        "\n",
        "# some fields are categorical and will require special treatment\n",
        "categorical = set((\n",
        "    'workclass',\n",
        "    'education',\n",
        "    'marital-status',\n",
        "    'occupation',\n",
        "    'relationship',\n",
        "    'sex',\n",
        "    'native-country',\n",
        "    'race',\n",
        "    'income',\n",
        "))\n"
      ]
    },
    {
      "cell_type": "code",
      "execution_count": null,
      "metadata": {
        "colab": {
          "base_uri": "https://localhost:8080/",
          "height": 444
        },
        "id": "cidtUGq4JiRo",
        "outputId": "9818a694-bf86-46fd-a19b-200f4efca798"
      },
      "outputs": [
        {
          "data": {
            "text/html": [
              "<div>\n",
              "<style scoped>\n",
              "    .dataframe tbody tr th:only-of-type {\n",
              "        vertical-align: middle;\n",
              "    }\n",
              "\n",
              "    .dataframe tbody tr th {\n",
              "        vertical-align: top;\n",
              "    }\n",
              "\n",
              "    .dataframe thead th {\n",
              "        text-align: right;\n",
              "    }\n",
              "</style>\n",
              "<table border=\"1\" class=\"dataframe\">\n",
              "  <thead>\n",
              "    <tr style=\"text-align: right;\">\n",
              "      <th></th>\n",
              "      <th>age</th>\n",
              "      <th>workclass</th>\n",
              "      <th>fnlwgt</th>\n",
              "      <th>education</th>\n",
              "      <th>education-num</th>\n",
              "      <th>marital-status</th>\n",
              "      <th>occupation</th>\n",
              "      <th>relationship</th>\n",
              "      <th>race</th>\n",
              "      <th>sex</th>\n",
              "      <th>capital-gain</th>\n",
              "      <th>capital-loss</th>\n",
              "      <th>hours-per-week</th>\n",
              "      <th>native-country</th>\n",
              "      <th>income</th>\n",
              "    </tr>\n",
              "  </thead>\n",
              "  <tbody>\n",
              "    <tr>\n",
              "      <th>0</th>\n",
              "      <td>39</td>\n",
              "      <td>State-gov</td>\n",
              "      <td>77516</td>\n",
              "      <td>Bachelors</td>\n",
              "      <td>13</td>\n",
              "      <td>Never-married</td>\n",
              "      <td>Adm-clerical</td>\n",
              "      <td>Not-in-family</td>\n",
              "      <td>White</td>\n",
              "      <td>Male</td>\n",
              "      <td>2174</td>\n",
              "      <td>0</td>\n",
              "      <td>40</td>\n",
              "      <td>United-States</td>\n",
              "      <td>&lt;=50k</td>\n",
              "    </tr>\n",
              "    <tr>\n",
              "      <th>1</th>\n",
              "      <td>50</td>\n",
              "      <td>Self-emp-not-inc</td>\n",
              "      <td>83311</td>\n",
              "      <td>Bachelors</td>\n",
              "      <td>13</td>\n",
              "      <td>Married-civ-spouse</td>\n",
              "      <td>Exec-managerial</td>\n",
              "      <td>Husband</td>\n",
              "      <td>White</td>\n",
              "      <td>Male</td>\n",
              "      <td>0</td>\n",
              "      <td>0</td>\n",
              "      <td>13</td>\n",
              "      <td>United-States</td>\n",
              "      <td>&lt;=50k</td>\n",
              "    </tr>\n",
              "    <tr>\n",
              "      <th>2</th>\n",
              "      <td>38</td>\n",
              "      <td>Private</td>\n",
              "      <td>215646</td>\n",
              "      <td>HS-grad</td>\n",
              "      <td>9</td>\n",
              "      <td>Divorced</td>\n",
              "      <td>Handlers-cleaners</td>\n",
              "      <td>Not-in-family</td>\n",
              "      <td>White</td>\n",
              "      <td>Male</td>\n",
              "      <td>0</td>\n",
              "      <td>0</td>\n",
              "      <td>40</td>\n",
              "      <td>United-States</td>\n",
              "      <td>&lt;=50k</td>\n",
              "    </tr>\n",
              "    <tr>\n",
              "      <th>3</th>\n",
              "      <td>53</td>\n",
              "      <td>Private</td>\n",
              "      <td>234721</td>\n",
              "      <td>11th</td>\n",
              "      <td>7</td>\n",
              "      <td>Married-civ-spouse</td>\n",
              "      <td>Handlers-cleaners</td>\n",
              "      <td>Husband</td>\n",
              "      <td>Black</td>\n",
              "      <td>Male</td>\n",
              "      <td>0</td>\n",
              "      <td>0</td>\n",
              "      <td>40</td>\n",
              "      <td>United-States</td>\n",
              "      <td>&lt;=50k</td>\n",
              "    </tr>\n",
              "    <tr>\n",
              "      <th>4</th>\n",
              "      <td>28</td>\n",
              "      <td>Private</td>\n",
              "      <td>338409</td>\n",
              "      <td>Bachelors</td>\n",
              "      <td>13</td>\n",
              "      <td>Married-civ-spouse</td>\n",
              "      <td>Prof-specialty</td>\n",
              "      <td>Wife</td>\n",
              "      <td>Black</td>\n",
              "      <td>Female</td>\n",
              "      <td>0</td>\n",
              "      <td>0</td>\n",
              "      <td>40</td>\n",
              "      <td>Cuba</td>\n",
              "      <td>&lt;=50k</td>\n",
              "    </tr>\n",
              "  </tbody>\n",
              "</table>\n",
              "</div>"
            ],
            "text/plain": [
              "   age         workclass  fnlwgt  education  education-num  \\\n",
              "0   39         State-gov   77516  Bachelors             13   \n",
              "1   50  Self-emp-not-inc   83311  Bachelors             13   \n",
              "2   38           Private  215646    HS-grad              9   \n",
              "3   53           Private  234721       11th              7   \n",
              "4   28           Private  338409  Bachelors             13   \n",
              "\n",
              "       marital-status         occupation   relationship   race     sex  \\\n",
              "0       Never-married       Adm-clerical  Not-in-family  White    Male   \n",
              "1  Married-civ-spouse    Exec-managerial        Husband  White    Male   \n",
              "2            Divorced  Handlers-cleaners  Not-in-family  White    Male   \n",
              "3  Married-civ-spouse  Handlers-cleaners        Husband  Black    Male   \n",
              "4  Married-civ-spouse     Prof-specialty           Wife  Black  Female   \n",
              "\n",
              "   capital-gain  capital-loss  hours-per-week native-country income  \n",
              "0          2174             0              40  United-States  <=50k  \n",
              "1             0             0              13  United-States  <=50k  \n",
              "2             0             0              40  United-States  <=50k  \n",
              "3             0             0              40  United-States  <=50k  \n",
              "4             0             0              40           Cuba  <=50k  "
            ]
          },
          "execution_count": 45,
          "metadata": {},
          "output_type": "execute_result"
        }
      ],
      "source": [
        "df.head()"
      ]
    },
    {
      "cell_type": "code",
      "execution_count": null,
      "metadata": {},
      "outputs": [
        {
          "data": {
            "text/html": [
              "<div>\n",
              "<style scoped>\n",
              "    .dataframe tbody tr th:only-of-type {\n",
              "        vertical-align: middle;\n",
              "    }\n",
              "\n",
              "    .dataframe tbody tr th {\n",
              "        vertical-align: top;\n",
              "    }\n",
              "\n",
              "    .dataframe thead th {\n",
              "        text-align: right;\n",
              "    }\n",
              "</style>\n",
              "<table border=\"1\" class=\"dataframe\">\n",
              "  <thead>\n",
              "    <tr style=\"text-align: right;\">\n",
              "      <th></th>\n",
              "      <th>age</th>\n",
              "      <th>fnlwgt</th>\n",
              "      <th>education-num</th>\n",
              "      <th>capital-gain</th>\n",
              "      <th>capital-loss</th>\n",
              "      <th>hours-per-week</th>\n",
              "    </tr>\n",
              "  </thead>\n",
              "  <tbody>\n",
              "    <tr>\n",
              "      <th>count</th>\n",
              "      <td>199.000000</td>\n",
              "      <td>199.000000</td>\n",
              "      <td>199.000000</td>\n",
              "      <td>199.000000</td>\n",
              "      <td>199.000000</td>\n",
              "      <td>199.000000</td>\n",
              "    </tr>\n",
              "    <tr>\n",
              "      <th>mean</th>\n",
              "      <td>37.929648</td>\n",
              "      <td>192400.673367</td>\n",
              "      <td>10.326633</td>\n",
              "      <td>652.457286</td>\n",
              "      <td>119.150754</td>\n",
              "      <td>40.301508</td>\n",
              "    </tr>\n",
              "    <tr>\n",
              "      <th>std</th>\n",
              "      <td>12.696738</td>\n",
              "      <td>108782.084164</td>\n",
              "      <td>2.635968</td>\n",
              "      <td>3269.482912</td>\n",
              "      <td>454.927442</td>\n",
              "      <td>11.229001</td>\n",
              "    </tr>\n",
              "    <tr>\n",
              "      <th>min</th>\n",
              "      <td>17.000000</td>\n",
              "      <td>25828.000000</td>\n",
              "      <td>2.000000</td>\n",
              "      <td>0.000000</td>\n",
              "      <td>0.000000</td>\n",
              "      <td>1.000000</td>\n",
              "    </tr>\n",
              "    <tr>\n",
              "      <th>25%</th>\n",
              "      <td>28.500000</td>\n",
              "      <td>114758.500000</td>\n",
              "      <td>9.000000</td>\n",
              "      <td>0.000000</td>\n",
              "      <td>0.000000</td>\n",
              "      <td>40.000000</td>\n",
              "    </tr>\n",
              "    <tr>\n",
              "      <th>50%</th>\n",
              "      <td>37.000000</td>\n",
              "      <td>183175.000000</td>\n",
              "      <td>10.000000</td>\n",
              "      <td>0.000000</td>\n",
              "      <td>0.000000</td>\n",
              "      <td>40.000000</td>\n",
              "    </tr>\n",
              "    <tr>\n",
              "      <th>75%</th>\n",
              "      <td>47.000000</td>\n",
              "      <td>250781.000000</td>\n",
              "      <td>13.000000</td>\n",
              "      <td>0.000000</td>\n",
              "      <td>0.000000</td>\n",
              "      <td>43.000000</td>\n",
              "    </tr>\n",
              "    <tr>\n",
              "      <th>max</th>\n",
              "      <td>79.000000</td>\n",
              "      <td>633742.000000</td>\n",
              "      <td>16.000000</td>\n",
              "      <td>34095.000000</td>\n",
              "      <td>2179.000000</td>\n",
              "      <td>80.000000</td>\n",
              "    </tr>\n",
              "  </tbody>\n",
              "</table>\n",
              "</div>"
            ],
            "text/plain": [
              "              age         fnlwgt  education-num  capital-gain  capital-loss  \\\n",
              "count  199.000000     199.000000     199.000000    199.000000    199.000000   \n",
              "mean    37.929648  192400.673367      10.326633    652.457286    119.150754   \n",
              "std     12.696738  108782.084164       2.635968   3269.482912    454.927442   \n",
              "min     17.000000   25828.000000       2.000000      0.000000      0.000000   \n",
              "25%     28.500000  114758.500000       9.000000      0.000000      0.000000   \n",
              "50%     37.000000  183175.000000      10.000000      0.000000      0.000000   \n",
              "75%     47.000000  250781.000000      13.000000      0.000000      0.000000   \n",
              "max     79.000000  633742.000000      16.000000  34095.000000   2179.000000   \n",
              "\n",
              "       hours-per-week  \n",
              "count      199.000000  \n",
              "mean        40.301508  \n",
              "std         11.229001  \n",
              "min          1.000000  \n",
              "25%         40.000000  \n",
              "50%         40.000000  \n",
              "75%         43.000000  \n",
              "max         80.000000  "
            ]
          },
          "execution_count": 46,
          "metadata": {},
          "output_type": "execute_result"
        }
      ],
      "source": [
        "df.describe()"
      ]
    },
    {
      "cell_type": "markdown",
      "metadata": {},
      "source": [
        "in below every thing is sequenced like every column is sequenced"
      ]
    },
    {
      "cell_type": "code",
      "execution_count": null,
      "metadata": {
        "id": "xygB2GhYJiRr"
      },
      "outputs": [
        {
          "name": "stdout",
          "output_type": "stream",
          "text": [
            "0         Bachelors\n",
            "1         Bachelors\n",
            "2           HS-grad\n",
            "3              11th\n",
            "4         Bachelors\n",
            "           ...     \n",
            "194       Bachelors\n",
            "195         5th-6th\n",
            "196    Some-college\n",
            "197         Masters\n",
            "198         Masters\n",
            "Name: education, Length: 199, dtype: category\n",
            "Categories (14, object): ['10th', '11th', '1st-4th', '5th-6th', ..., 'HS-grad', 'Masters', 'Prof-school', 'Some-college']\n"
          ]
        }
      ],
      "source": [
        "for names in categorical:\n",
        "   df[names] = df[names].astype('category')\n",
        "print(df[names])"
      ]
    },
    {
      "cell_type": "markdown",
      "metadata": {
        "id": "O_kVH5-iJiRs"
      },
      "source": [
        "**Implement a function that returns the spans (max-min for numerical columns, number of different values for categorical columns) of all columns for a partition of a dataframe.** "
      ]
    },
    {
      "cell_type": "markdown",
      "metadata": {
        "id": "k4R5pfpuaN0B"
      },
      "source": []
    },
    {
      "cell_type": "code",
      "execution_count": null,
      "metadata": {
        "id": "obsT8-zZJiRt"
      },
      "outputs": [],
      "source": [
        "def get_spans(df, partition, scale=None):\n",
        "    \"\"\"\n",
        "    :param        df: the dataframe for which to calculate the spans\n",
        "    :param partition: the partition for which to calculate the spans\n",
        "    :param     scale: if given, the spans of each column will be divided\n",
        "                      by the value in `scale` for that column\n",
        "    :        returns: The spans of all columns in the partition\n",
        "    \"\"\"\n",
        "    spans = {}\n",
        "    for column in df.columns:\n",
        "        if column in categorical:\n",
        "            span = len(df[column][partition].unique())\n",
        "        else:\n",
        "            span = df[column][partition].max()-df[column][partition].min()\n",
        "        if scale is not None:\n",
        "            span = span/scale[column]\n",
        "        spans[column] = span\n",
        "    return spans"
      ]
    },
    {
      "cell_type": "code",
      "execution_count": null,
      "metadata": {
        "colab": {
          "base_uri": "https://localhost:8080/"
        },
        "id": "moQto_W9JiRu",
        "outputId": "33945bea-ae21-4cad-9ef2-14b2b9d81b2c"
      },
      "outputs": [
        {
          "data": {
            "text/plain": [
              "{'age': 62,\n",
              " 'workclass': 6,\n",
              " 'fnlwgt': 607914,\n",
              " 'education': 14,\n",
              " 'education-num': 14,\n",
              " 'marital-status': 7,\n",
              " 'occupation': 13,\n",
              " 'relationship': 6,\n",
              " 'race': 5,\n",
              " 'sex': 2,\n",
              " 'capital-gain': 34095,\n",
              " 'capital-loss': 2179,\n",
              " 'hours-per-week': 79,\n",
              " 'native-country': 13,\n",
              " 'income': 2}"
            ]
          },
          "execution_count": 49,
          "metadata": {},
          "output_type": "execute_result"
        }
      ],
      "source": [
        "full_spans = get_spans(df, df.index)\n",
        "full_spans"
      ]
    },
    {
      "cell_type": "markdown",
      "metadata": {
        "id": "Py7bhNyGJiRw"
      },
      "source": [
        "**Implement a `split` function that takes a dataframe, partition and column and returns two partitions that split the given partition such that all rows with values of the column `column` below the median are in one partition and all rows with values above or equal to the median are in the other.**"
      ]
    },
    {
      "cell_type": "code",
      "execution_count": null,
      "metadata": {
        "id": "qMufYnfwJiRx"
      },
      "outputs": [],
      "source": [
        "def split(df, partition, column):\n",
        "    \"\"\"\n",
        "    :param        df: The dataframe to split\n",
        "    :param partition: The partition to split\n",
        "    :param    column: The column along which to split\n",
        "    :        returns: A tuple containing a split of the original partition\n",
        "    \"\"\"\n",
        "    dfp = df[column][partition]\n",
        "    if column in categorical:\n",
        "        values = dfp.unique()\n",
        "        lv = set(values[:len(values)//2])\n",
        "        rv = set(values[len(values)//2:])\n",
        "        return dfp.index[dfp.isin(lv)], dfp.index[dfp.isin(rv)]\n",
        "    else:        \n",
        "        median = dfp.median()\n",
        "        dfl = dfp.index[dfp < median]\n",
        "        dfr = dfp.index[dfp >= median]\n",
        "        return (dfl, dfr)"
      ]
    },
    {
      "cell_type": "markdown",
      "metadata": {
        "id": "xZ7kii1vJiRy"
      },
      "source": [
        "Now that we have all helper functions in place, we can implement the partition algorithm discussed above:\n",
        "\n",
        "**Implement the partitioning algorithm discussed above, using a k-anonymous criterion for the partitions you create.**"
      ]
    },
    {
      "cell_type": "code",
      "execution_count": null,
      "metadata": {
        "id": "fMy_BzljJiRz"
      },
      "outputs": [],
      "source": [
        "def is_k_anonymous(df, partition, sensitive_column, k=5):\n",
        "    \"\"\"\n",
        "    :param               df: The dataframe on which to check the partition.\n",
        "    :param        partition: The partition of the dataframe to check.\n",
        "    :param sensitive_column: The name of the sensitive column\n",
        "    :param                k: The desired k\n",
        "    :returns               : True if the partition is valid according to our k-anonymity criteria, False otherwise.\n",
        "    \"\"\"\n",
        "    if len(partition) < k:\n",
        "        return False\n",
        "    return True\n",
        "\n",
        "def partition_dataset(df, feature_columns, sensitive_column, scale, is_valid):\n",
        "    \"\"\"\n",
        "    :param               df: The dataframe to be partitioned.\n",
        "    :param  feature_columns: A list of column names along which to partition the dataset.\n",
        "    :param sensitive_column: The name of the sensitive column (to be passed on to the `is_valid` function)\n",
        "    :param            scale: The column spans as generated before.\n",
        "    :param         is_valid: A function that takes a dataframe and a partition and returns True if the partition is valid.\n",
        "    :returns               : A list of valid partitions that cover the entire dataframe.\n",
        "    \"\"\"\n",
        "    finished_partitions = []\n",
        "    partitions = [df.index]\n",
        "    while partitions:\n",
        "        partition = partitions.pop(0)\n",
        "        spans = get_spans(df[feature_columns], partition, scale)\n",
        "        for column, span in sorted(spans.items(), key=lambda x:-x[1]):\n",
        "            lp, rp = split(df, partition, column)\n",
        "            if not is_valid(df, lp, sensitive_column) or not is_valid(df, rp, sensitive_column):\n",
        "                continue\n",
        "            partitions.extend((lp, rp))\n",
        "            break\n",
        "        else:\n",
        "            finished_partitions.append(partition)\n",
        "    return finished_partitions\n"
      ]
    },
    {
      "cell_type": "markdown",
      "metadata": {
        "id": "U6R_CfmjJiR0"
      },
      "source": [
        "Now let's try this on our dataset! To keep things simple, we will at first select only two columns from the dataset that we apply the partitioning to. This makes it easier to check/visualize the result and speed up the execution (the naive algorithm can take several minutes when running on the entire dataset) "
      ]
    },
    {
      "cell_type": "code",
      "execution_count": null,
      "metadata": {
        "id": "0W5y0GK6JiR0"
      },
      "outputs": [],
      "source": [
        "# we apply our partitioning method to two columns of our dataset, using \"income\" as the sensitive attribute\n",
        "feature_columns = ['age','education']\n",
        "sensitive_column = 'income'\n",
        "finished_partitions = partition_dataset(df, feature_columns, sensitive_column, full_spans, is_k_anonymous)"
      ]
    },
    {
      "cell_type": "code",
      "execution_count": null,
      "metadata": {},
      "outputs": [
        {
          "data": {
            "text/plain": [
              "[Int64Index([78, 106, 107, 168, 195], dtype='int64'),\n",
              " Int64Index([20, 63, 76, 89, 111, 166, 183], dtype='int64'),\n",
              " Int64Index([39, 52, 56, 77, 96, 98, 134, 160, 189], dtype='int64'),\n",
              " Int64Index([4, 12, 42, 72, 110, 123, 156, 173, 174], dtype='int64'),\n",
              " Int64Index([8, 11, 60, 71, 87, 94, 122, 152, 179, 188, 198], dtype='int64'),\n",
              " Int64Index([26, 30, 37, 51, 80, 119, 153, 176, 178], dtype='int64'),\n",
              " Int64Index([16, 44, 75, 130, 131, 161, 163, 170, 171, 175], dtype='int64'),\n",
              " Int64Index([59, 79, 93, 104, 108, 127, 145, 158], dtype='int64'),\n",
              " Int64Index([31, 70, 103, 124, 126, 138, 142], dtype='int64'),\n",
              " Int64Index([34, 36, 50, 69, 73, 120, 146, 191], dtype='int64'),\n",
              " Int64Index([49, 64, 66, 92, 95, 113, 137, 141], dtype='int64'),\n",
              " Int64Index([22, 33, 38, 40, 57, 88, 165, 182, 196], dtype='int64'),\n",
              " Int64Index([0, 9, 32, 101, 121, 133, 159, 186, 192, 194], dtype='int64'),\n",
              " Int64Index([14, 18, 23, 48, 143], dtype='int64'),\n",
              " Int64Index([1, 6, 7, 29, 43, 53, 54, 62, 81, 86, 125, 154, 155], dtype='int64'),\n",
              " Int64Index([35, 68, 102, 117, 139, 150, 172, 193], dtype='int64'),\n",
              " Int64Index([13, 17, 61, 99, 105], dtype='int64'),\n",
              " Int64Index([15, 65, 114, 128, 147, 151, 177, 185], dtype='int64'),\n",
              " Int64Index([2, 5, 28, 58, 109, 132, 135, 197], dtype='int64'),\n",
              " Int64Index([19, 47, 82, 84, 136, 162, 164, 167], dtype='int64'),\n",
              " Int64Index([10, 91, 97, 184, 190], dtype='int64'),\n",
              " Int64Index([55, 129, 149, 180, 181], dtype='int64'),\n",
              " Int64Index([3, 21, 41, 46, 67, 85, 187], dtype='int64'),\n",
              " Int64Index([24, 25, 45, 83, 112, 140, 148], dtype='int64'),\n",
              " Int64Index([27, 90, 115, 116, 118], dtype='int64'),\n",
              " Int64Index([74, 100, 144, 157, 169], dtype='int64')]"
            ]
          },
          "execution_count": 53,
          "metadata": {},
          "output_type": "execute_result"
        }
      ],
      "source": [
        "finished_partitions"
      ]
    },
    {
      "cell_type": "code",
      "execution_count": null,
      "metadata": {
        "colab": {
          "base_uri": "https://localhost:8080/"
        },
        "id": "5e00k_AhJiR1",
        "outputId": "fb64bcaf-aead-499a-a7ff-78b72c235c61"
      },
      "outputs": [
        {
          "data": {
            "text/plain": [
              "26"
            ]
          },
          "execution_count": 54,
          "metadata": {},
          "output_type": "execute_result"
        }
      ],
      "source": [
        "# we get the number of partitions that were created\n",
        "len(finished_partitions)"
      ]
    },
    {
      "cell_type": "markdown",
      "metadata": {
        "id": "v-NqTR17JiR1"
      },
      "source": [
        "Let's visualize the created partitions! To do that, we will write functions to get the rectangular bounds of a partition along two columns. We can then plot these rects to see how our partitioning function divides the dataset. If we perform the partition only along the two columns selected for plotting then the resulting rects should not overlap and cover the entire dataset."
      ]
    },
    {
      "cell_type": "code",
      "execution_count": null,
      "metadata": {
        "id": "k0thsgrfJiR2"
      },
      "outputs": [],
      "source": [
        "import matplotlib.pylab as pl\n",
        "import matplotlib.patches as patches"
      ]
    },
    {
      "cell_type": "code",
      "execution_count": null,
      "metadata": {
        "id": "EOmtEEIaJiR3"
      },
      "outputs": [],
      "source": [
        "def build_indexes(df):\n",
        "    indexes = {}\n",
        "    for column in categorical:\n",
        "        values = sorted(df[column].unique())\n",
        "        indexes[column] = { x : y for x, y in zip(values, range(len(values)))}\n",
        "    return indexes\n",
        "\n",
        "def get_coords(df, column, partition, indexes, offset=0.1):\n",
        "    if column in categorical:\n",
        "        sv = df[column][partition].sort_values()\n",
        "        l, r = indexes[column][sv[sv.index[0]]], indexes[column][sv[sv.index[-1]]]+1.0\n",
        "    else:\n",
        "        sv = df[column][partition].sort_values()\n",
        "        next_value = sv[sv.index[-1]]\n",
        "        larger_values = df[df[column] > next_value][column]\n",
        "        if len(larger_values) > 0:\n",
        "            next_value = larger_values.min()\n",
        "        l = sv[sv.index[0]]\n",
        "        r = next_value\n",
        "    # we add some offset to make the partitions more easily visible\n",
        "    l -= offset\n",
        "    r += offset\n",
        "    return l, r\n",
        "\n",
        "def get_partition_rects(df, partitions, column_x, column_y, indexes, offsets=[0.1, 0.1]):\n",
        "    rects = []\n",
        "    for partition in partitions:\n",
        "        xl, xr = get_coords(df, column_x, partition, indexes, offset=offsets[0])\n",
        "        yl, yr = get_coords(df, column_y, partition, indexes, offset=offsets[1])\n",
        "        rects.append(((xl, yl),(xr, yr)))\n",
        "    return rects\n",
        "\n",
        "def get_bounds(df, column, indexes, offset=1.0):\n",
        "    if column in categorical:\n",
        "        return 0-offset, len(indexes[column])+offset\n",
        "    return df[column].min()-offset, df[column].max()+offset"
      ]
    },
    {
      "cell_type": "code",
      "execution_count": null,
      "metadata": {
        "id": "dU7Z9NDLJiR4"
      },
      "outputs": [],
      "source": [
        "# we calculate the bounding rects of all partitions that we created\n",
        "indexes = build_indexes(df)\n",
        "column_x, column_y = feature_columns[:2]\n",
        "rects = get_partition_rects(df, finished_partitions, column_x, column_y, indexes, offsets=[0.0, 0.0])"
      ]
    },
    {
      "cell_type": "code",
      "execution_count": null,
      "metadata": {
        "colab": {
          "base_uri": "https://localhost:8080/"
        },
        "id": "LFzOkgN5JiR5",
        "outputId": "46b5fc90-c6c2-483c-92f2-d661592abe46"
      },
      "outputs": [
        {
          "data": {
            "text/plain": [
              "[((17.0, 0.0), (31.0, 4.0)),\n",
              " ((38.0, 4.0), (44.0, 13.0)),\n",
              " ((46.0, 0.0), (70.0, 13.0)),\n",
              " ((23.0, 8.0), (30.0, 9.0)),\n",
              " ((30.0, 8.0), (36.0, 12.0)),\n",
              " ((18.0, 6.0), (24.0, 11.0)),\n",
              " ((24.0, 6.0), (29.0, 11.0)),\n",
              " ((29.0, 4.0), (32.0, 11.0)),\n",
              " ((19.0, 13.0), (21.0, 14.0)),\n",
              " ((21.0, 13.0), (27.0, 14.0))]"
            ]
          },
          "execution_count": 58,
          "metadata": {},
          "output_type": "execute_result"
        }
      ],
      "source": [
        "# let's see how our rects look like\n",
        "rects[:10]"
      ]
    },
    {
      "cell_type": "code",
      "execution_count": null,
      "metadata": {
        "id": "9ZT9nca5JiR6"
      },
      "outputs": [],
      "source": [
        "# we plot the rects\n",
        "def plot_rects(df, ax, rects, column_x, column_y, edgecolor='black', facecolor='none'):\n",
        "    for (xl, yl),(xr, yr) in rects:\n",
        "        ax.add_patch(patches.Rectangle((xl,yl),xr-xl,yr-yl,linewidth=1,edgecolor=edgecolor,facecolor=facecolor, alpha=0.5))\n",
        "    ax.set_xlim(*get_bounds(df, column_x, indexes))\n",
        "    ax.set_ylim(*get_bounds(df, column_y, indexes))\n",
        "    ax.set_xlabel(column_x)\n",
        "    ax.set_ylabel(column_y)"
      ]
    },
    {
      "cell_type": "code",
      "execution_count": null,
      "metadata": {
        "colab": {
          "base_uri": "https://localhost:8080/",
          "height": 890
        },
        "id": "ocZltrgXJiR7",
        "outputId": "a40d5e18-f9ce-44a8-8df1-2ae69858f870"
      },
      "outputs": [
        {
          "data": {
            "image/png": "[encoded data removed]",
            "text/plain": [
              "<Figure size 1440x1440 with 1 Axes>"
            ]
          },
          "metadata": {
            "needs_background": "light"
          },
          "output_type": "display_data"
        }
      ],
      "source": [
        "pl.figure(figsize=(20,20))\n",
        "ax = pl.subplot(111)\n",
        "plot_rects(df, ax, rects, column_x, column_y, facecolor='g')\n",
        "pl.scatter(df[column_x], df[column_y])\n",
        "pl.show()"
      ]
    },
    {
      "cell_type": "markdown",
      "metadata": {
        "id": "6lvGerKnJiR7"
      },
      "source": [
        "# Generating an k-Anonymous Dataset\n",
        "\n",
        "Of course, to use the data we want to produce a new dataset that contains one row for each partition and value of the sensitive attribute. To do this, we need to aggregate the columns in each partition.  Let's do this!"
      ]
    },
    {
      "cell_type": "code",
      "execution_count": null,
      "metadata": {
        "id": "llIVETiJJiR8"
      },
      "outputs": [],
      "source": [
        "def agg_categorical_column(series):\n",
        "    return [','.join(set(series))]\n",
        "\n",
        "def agg_numerical_column(series):\n",
        "    return [series.mean()]"
      ]
    },
    {
      "cell_type": "code",
      "execution_count": null,
      "metadata": {
        "id": "1UZLSMqTJiR8"
      },
      "outputs": [],
      "source": [
        "def build_anonymized_dataset(df, partitions, feature_columns, sensitive_column, max_partitions=None):\n",
        "    aggregations = {}\n",
        "    for column in feature_columns:\n",
        "        if column in categorical:\n",
        "            aggregations[column] = agg_categorical_column\n",
        "        else:\n",
        "            aggregations[column] = agg_numerical_column\n",
        "    rows = []\n",
        "    for i, partition in enumerate(partitions):\n",
        "        if i % 100 == 1:\n",
        "            print(\"Finished {} partitions...\".format(i))\n",
        "        if max_partitions is not None and i > max_partitions:\n",
        "            break\n",
        "        grouped_columns = df.loc[partition].agg(aggregations, squeeze=False)\n",
        "        sensitive_counts = df.loc[partition].groupby(sensitive_column).agg({sensitive_column : 'count'})\n",
        "        values = grouped_columns.iloc[0].to_dict()\n",
        "        # print(grouped_columns.iloc[0])\n",
        "        for sensitive_value, count in sensitive_counts[sensitive_column].items():\n",
        "            if count == 0:\n",
        "                continue\n",
        "            values.update({\n",
        "                sensitive_column : sensitive_value,\n",
        "                'count' : count,\n",
        "\n",
        "            })\n",
        "            rows.append(values.copy())\n",
        "    return pd.DataFrame(rows)"
      ]
    },
    {
      "cell_type": "code",
      "execution_count": null,
      "metadata": {},
      "outputs": [],
      "source": [
        "def build_anonymized_dataset(df, partitions, feature_columns, sensitive_column, max_partitions=None):\n",
        "    aggregations = {}\n",
        "    for column in feature_columns:\n",
        "        if column in categorical:\n",
        "            aggregations[column] = agg_categorical_column\n",
        "        else:\n",
        "            aggregations[column] = agg_numerical_column\n",
        "    rows = []\n",
        "    for i, partition in enumerate(partitions):\n",
        "        if i % 100 == 1:\n",
        "            print(\"Finished {} partitions...\".format(i))\n",
        "        if max_partitions is not None and i > max_partitions:\n",
        "            break\n",
        "        grouped_columns = df.loc[partition].agg(aggregations, squeeze=False)\n",
        "        sensitive_counts = df.loc[partition].groupby(sensitive_column).agg({sensitive_column : 'count'})\n",
        "        values = pd.DataFrame(grouped_columns.iloc[0]).to_dict()\n",
        "        for sensitive_value, count in sensitive_counts[sensitive_column].items():\n",
        "            if count == 0:\n",
        "                continue\n",
        "            values.update({\n",
        "                sensitive_column : sensitive_value,\n",
        "                'count' : count,\n",
        "\n",
        "            })\n",
        "            rows.append(values.copy())\n",
        "    return pd.DataFrame(rows)"
      ]
    },
    {
      "cell_type": "code",
      "execution_count": null,
      "metadata": {
        "colab": {
          "base_uri": "https://localhost:8080/",
          "height": 512
        },
        "id": "nJ5SrrBXJiR9",
        "outputId": "09cf47c0-6351-4aff-a08b-54fa17dcae06"
      },
      "outputs": [
        {
          "name": "stdout",
          "output_type": "stream",
          "text": [
            "Finished 1 partitions...\n"
          ]
        }
      ],
      "source": [
        "dfn = build_anonymized_dataset(df, finished_partitions, feature_columns, sensitive_column)"
      ]
    },
    {
      "cell_type": "code",
      "execution_count": null,
      "metadata": {},
      "outputs": [
        {
          "name": "stdout",
          "output_type": "stream",
          "text": [
            "                          0 income  count\n",
            "0                 {0: 21.2}  <=50k      5\n",
            "1   {0: 40.285714285714285}  <=50k      2\n",
            "2   {0: 40.285714285714285}   >50k      5\n",
            "3   {0: 52.888888888888886}  <=50k      6\n",
            "4   {0: 52.888888888888886}   >50k      3\n",
            "5    {0: 26.11111111111111}  <=50k      6\n",
            "6    {0: 26.11111111111111}   >50k      3\n",
            "7    {0: 31.90909090909091}  <=50k      7\n",
            "8    {0: 31.90909090909091}   >50k      4\n",
            "9    {0: 19.88888888888889}  <=50k      9\n",
            "10                {0: 26.4}  <=50k     10\n",
            "11               {0: 30.25}  <=50k      7\n",
            "12               {0: 30.25}   >50k      1\n",
            "13  {0: 19.571428571428573}  <=50k      7\n",
            "14              {0: 22.875}  <=50k      8\n",
            "15              {0: 28.125}  <=50k      8\n",
            "16  {0: 32.666666666666664}  <=50k      8\n",
            "17  {0: 32.666666666666664}   >50k      1\n",
            "18                {0: 41.2}  <=50k      8\n",
            "19                {0: 41.2}   >50k      2\n",
            "20                {0: 41.4}  <=50k      3\n",
            "21                {0: 41.4}   >50k      2\n",
            "22   {0: 49.38461538461539}  <=50k      8\n",
            "23   {0: 49.38461538461539}   >50k      5\n",
            "24              {0: 48.375}  <=50k      4\n",
            "25              {0: 48.375}   >50k      4\n",
            "26                {0: 32.0}  <=50k      4\n",
            "27                {0: 32.0}   >50k      1\n",
            "28              {0: 34.875}  <=50k      8\n",
            "29              {0: 39.125}  <=50k      6\n",
            "30              {0: 39.125}   >50k      2\n",
            "31              {0: 44.375}  <=50k      5\n",
            "32              {0: 44.375}   >50k      3\n",
            "33                {0: 37.2}  <=50k      2\n",
            "34                {0: 37.2}   >50k      3\n",
            "35                {0: 42.4}  <=50k      3\n",
            "36                {0: 42.4}   >50k      2\n",
            "37  {0: 53.142857142857146}  <=50k      6\n",
            "38  {0: 53.142857142857146}   >50k      1\n",
            "39  {0: 58.857142857142854}  <=50k      4\n",
            "40  {0: 58.857142857142854}   >50k      3\n",
            "41                {0: 55.0}  <=50k      4\n",
            "42                {0: 55.0}   >50k      1\n",
            "43                {0: 72.4}  <=50k      4\n",
            "44                {0: 72.4}   >50k      1\n"
          ]
        }
      ],
      "source": [
        "print(dfn)"
      ]
    },
    {
      "cell_type": "code",
      "execution_count": null,
      "metadata": {
        "id": "ibcoJlOnJiR9"
      },
      "outputs": [
        {
          "data": {
            "text/html": [
              "<div>\n",
              "<style scoped>\n",
              "    .dataframe tbody tr th:only-of-type {\n",
              "        vertical-align: middle;\n",
              "    }\n",
              "\n",
              "    .dataframe tbody tr th {\n",
              "        vertical-align: top;\n",
              "    }\n",
              "\n",
              "    .dataframe thead th {\n",
              "        text-align: right;\n",
              "    }\n",
              "</style>\n",
              "<table border=\"1\" class=\"dataframe\">\n",
              "  <thead>\n",
              "    <tr style=\"text-align: right;\">\n",
              "      <th></th>\n",
              "      <th>0</th>\n",
              "      <th>income</th>\n",
              "      <th>count</th>\n",
              "    </tr>\n",
              "  </thead>\n",
              "  <tbody>\n",
              "    <tr>\n",
              "      <th>0</th>\n",
              "      <td>{0: 21.2}</td>\n",
              "      <td>&lt;=50k</td>\n",
              "      <td>5</td>\n",
              "    </tr>\n",
              "    <tr>\n",
              "      <th>41</th>\n",
              "      <td>{0: 55.0}</td>\n",
              "      <td>&lt;=50k</td>\n",
              "      <td>4</td>\n",
              "    </tr>\n",
              "    <tr>\n",
              "      <th>39</th>\n",
              "      <td>{0: 58.857142857142854}</td>\n",
              "      <td>&lt;=50k</td>\n",
              "      <td>4</td>\n",
              "    </tr>\n",
              "    <tr>\n",
              "      <th>37</th>\n",
              "      <td>{0: 53.142857142857146}</td>\n",
              "      <td>&lt;=50k</td>\n",
              "      <td>6</td>\n",
              "    </tr>\n",
              "    <tr>\n",
              "      <th>35</th>\n",
              "      <td>{0: 42.4}</td>\n",
              "      <td>&lt;=50k</td>\n",
              "      <td>3</td>\n",
              "    </tr>\n",
              "    <tr>\n",
              "      <th>33</th>\n",
              "      <td>{0: 37.2}</td>\n",
              "      <td>&lt;=50k</td>\n",
              "      <td>2</td>\n",
              "    </tr>\n",
              "    <tr>\n",
              "      <th>31</th>\n",
              "      <td>{0: 44.375}</td>\n",
              "      <td>&lt;=50k</td>\n",
              "      <td>5</td>\n",
              "    </tr>\n",
              "    <tr>\n",
              "      <th>29</th>\n",
              "      <td>{0: 39.125}</td>\n",
              "      <td>&lt;=50k</td>\n",
              "      <td>6</td>\n",
              "    </tr>\n",
              "    <tr>\n",
              "      <th>28</th>\n",
              "      <td>{0: 34.875}</td>\n",
              "      <td>&lt;=50k</td>\n",
              "      <td>8</td>\n",
              "    </tr>\n",
              "    <tr>\n",
              "      <th>26</th>\n",
              "      <td>{0: 32.0}</td>\n",
              "      <td>&lt;=50k</td>\n",
              "      <td>4</td>\n",
              "    </tr>\n",
              "    <tr>\n",
              "      <th>24</th>\n",
              "      <td>{0: 48.375}</td>\n",
              "      <td>&lt;=50k</td>\n",
              "      <td>4</td>\n",
              "    </tr>\n",
              "    <tr>\n",
              "      <th>43</th>\n",
              "      <td>{0: 72.4}</td>\n",
              "      <td>&lt;=50k</td>\n",
              "      <td>4</td>\n",
              "    </tr>\n",
              "    <tr>\n",
              "      <th>20</th>\n",
              "      <td>{0: 41.4}</td>\n",
              "      <td>&lt;=50k</td>\n",
              "      <td>3</td>\n",
              "    </tr>\n",
              "    <tr>\n",
              "      <th>18</th>\n",
              "      <td>{0: 41.2}</td>\n",
              "      <td>&lt;=50k</td>\n",
              "      <td>8</td>\n",
              "    </tr>\n",
              "    <tr>\n",
              "      <th>16</th>\n",
              "      <td>{0: 32.666666666666664}</td>\n",
              "      <td>&lt;=50k</td>\n",
              "      <td>8</td>\n",
              "    </tr>\n",
              "    <tr>\n",
              "      <th>22</th>\n",
              "      <td>{0: 49.38461538461539}</td>\n",
              "      <td>&lt;=50k</td>\n",
              "      <td>8</td>\n",
              "    </tr>\n",
              "    <tr>\n",
              "      <th>14</th>\n",
              "      <td>{0: 22.875}</td>\n",
              "      <td>&lt;=50k</td>\n",
              "      <td>8</td>\n",
              "    </tr>\n",
              "    <tr>\n",
              "      <th>15</th>\n",
              "      <td>{0: 28.125}</td>\n",
              "      <td>&lt;=50k</td>\n",
              "      <td>8</td>\n",
              "    </tr>\n",
              "    <tr>\n",
              "      <th>7</th>\n",
              "      <td>{0: 31.90909090909091}</td>\n",
              "      <td>&lt;=50k</td>\n",
              "      <td>7</td>\n",
              "    </tr>\n",
              "    <tr>\n",
              "      <th>9</th>\n",
              "      <td>{0: 19.88888888888889}</td>\n",
              "      <td>&lt;=50k</td>\n",
              "      <td>9</td>\n",
              "    </tr>\n",
              "    <tr>\n",
              "      <th>3</th>\n",
              "      <td>{0: 52.888888888888886}</td>\n",
              "      <td>&lt;=50k</td>\n",
              "      <td>6</td>\n",
              "    </tr>\n",
              "    <tr>\n",
              "      <th>11</th>\n",
              "      <td>{0: 30.25}</td>\n",
              "      <td>&lt;=50k</td>\n",
              "      <td>7</td>\n",
              "    </tr>\n",
              "    <tr>\n",
              "      <th>10</th>\n",
              "      <td>{0: 26.4}</td>\n",
              "      <td>&lt;=50k</td>\n",
              "      <td>10</td>\n",
              "    </tr>\n",
              "    <tr>\n",
              "      <th>1</th>\n",
              "      <td>{0: 40.285714285714285}</td>\n",
              "      <td>&lt;=50k</td>\n",
              "      <td>2</td>\n",
              "    </tr>\n",
              "    <tr>\n",
              "      <th>13</th>\n",
              "      <td>{0: 19.571428571428573}</td>\n",
              "      <td>&lt;=50k</td>\n",
              "      <td>7</td>\n",
              "    </tr>\n",
              "    <tr>\n",
              "      <th>5</th>\n",
              "      <td>{0: 26.11111111111111}</td>\n",
              "      <td>&lt;=50k</td>\n",
              "      <td>6</td>\n",
              "    </tr>\n",
              "    <tr>\n",
              "      <th>38</th>\n",
              "      <td>{0: 53.142857142857146}</td>\n",
              "      <td>&gt;50k</td>\n",
              "      <td>1</td>\n",
              "    </tr>\n",
              "    <tr>\n",
              "      <th>34</th>\n",
              "      <td>{0: 37.2}</td>\n",
              "      <td>&gt;50k</td>\n",
              "      <td>3</td>\n",
              "    </tr>\n",
              "    <tr>\n",
              "      <th>40</th>\n",
              "      <td>{0: 58.857142857142854}</td>\n",
              "      <td>&gt;50k</td>\n",
              "      <td>3</td>\n",
              "    </tr>\n",
              "    <tr>\n",
              "      <th>36</th>\n",
              "      <td>{0: 42.4}</td>\n",
              "      <td>&gt;50k</td>\n",
              "      <td>2</td>\n",
              "    </tr>\n",
              "    <tr>\n",
              "      <th>4</th>\n",
              "      <td>{0: 52.888888888888886}</td>\n",
              "      <td>&gt;50k</td>\n",
              "      <td>3</td>\n",
              "    </tr>\n",
              "    <tr>\n",
              "      <th>42</th>\n",
              "      <td>{0: 55.0}</td>\n",
              "      <td>&gt;50k</td>\n",
              "      <td>1</td>\n",
              "    </tr>\n",
              "    <tr>\n",
              "      <th>2</th>\n",
              "      <td>{0: 40.285714285714285}</td>\n",
              "      <td>&gt;50k</td>\n",
              "      <td>5</td>\n",
              "    </tr>\n",
              "    <tr>\n",
              "      <th>30</th>\n",
              "      <td>{0: 39.125}</td>\n",
              "      <td>&gt;50k</td>\n",
              "      <td>2</td>\n",
              "    </tr>\n",
              "    <tr>\n",
              "      <th>6</th>\n",
              "      <td>{0: 26.11111111111111}</td>\n",
              "      <td>&gt;50k</td>\n",
              "      <td>3</td>\n",
              "    </tr>\n",
              "    <tr>\n",
              "      <th>8</th>\n",
              "      <td>{0: 31.90909090909091}</td>\n",
              "      <td>&gt;50k</td>\n",
              "      <td>4</td>\n",
              "    </tr>\n",
              "    <tr>\n",
              "      <th>27</th>\n",
              "      <td>{0: 32.0}</td>\n",
              "      <td>&gt;50k</td>\n",
              "      <td>1</td>\n",
              "    </tr>\n",
              "    <tr>\n",
              "      <th>25</th>\n",
              "      <td>{0: 48.375}</td>\n",
              "      <td>&gt;50k</td>\n",
              "      <td>4</td>\n",
              "    </tr>\n",
              "    <tr>\n",
              "      <th>23</th>\n",
              "      <td>{0: 49.38461538461539}</td>\n",
              "      <td>&gt;50k</td>\n",
              "      <td>5</td>\n",
              "    </tr>\n",
              "    <tr>\n",
              "      <th>21</th>\n",
              "      <td>{0: 41.4}</td>\n",
              "      <td>&gt;50k</td>\n",
              "      <td>2</td>\n",
              "    </tr>\n",
              "    <tr>\n",
              "      <th>12</th>\n",
              "      <td>{0: 30.25}</td>\n",
              "      <td>&gt;50k</td>\n",
              "      <td>1</td>\n",
              "    </tr>\n",
              "    <tr>\n",
              "      <th>19</th>\n",
              "      <td>{0: 41.2}</td>\n",
              "      <td>&gt;50k</td>\n",
              "      <td>2</td>\n",
              "    </tr>\n",
              "    <tr>\n",
              "      <th>17</th>\n",
              "      <td>{0: 32.666666666666664}</td>\n",
              "      <td>&gt;50k</td>\n",
              "      <td>1</td>\n",
              "    </tr>\n",
              "    <tr>\n",
              "      <th>32</th>\n",
              "      <td>{0: 44.375}</td>\n",
              "      <td>&gt;50k</td>\n",
              "      <td>3</td>\n",
              "    </tr>\n",
              "    <tr>\n",
              "      <th>44</th>\n",
              "      <td>{0: 72.4}</td>\n",
              "      <td>&gt;50k</td>\n",
              "      <td>1</td>\n",
              "    </tr>\n",
              "  </tbody>\n",
              "</table>\n",
              "</div>"
            ],
            "text/plain": [
              "                          0 income  count\n",
              "0                 {0: 21.2}  <=50k      5\n",
              "41                {0: 55.0}  <=50k      4\n",
              "39  {0: 58.857142857142854}  <=50k      4\n",
              "37  {0: 53.142857142857146}  <=50k      6\n",
              "35                {0: 42.4}  <=50k      3\n",
              "33                {0: 37.2}  <=50k      2\n",
              "31              {0: 44.375}  <=50k      5\n",
              "29              {0: 39.125}  <=50k      6\n",
              "28              {0: 34.875}  <=50k      8\n",
              "26                {0: 32.0}  <=50k      4\n",
              "24              {0: 48.375}  <=50k      4\n",
              "43                {0: 72.4}  <=50k      4\n",
              "20                {0: 41.4}  <=50k      3\n",
              "18                {0: 41.2}  <=50k      8\n",
              "16  {0: 32.666666666666664}  <=50k      8\n",
              "22   {0: 49.38461538461539}  <=50k      8\n",
              "14              {0: 22.875}  <=50k      8\n",
              "15              {0: 28.125}  <=50k      8\n",
              "7    {0: 31.90909090909091}  <=50k      7\n",
              "9    {0: 19.88888888888889}  <=50k      9\n",
              "3   {0: 52.888888888888886}  <=50k      6\n",
              "11               {0: 30.25}  <=50k      7\n",
              "10                {0: 26.4}  <=50k     10\n",
              "1   {0: 40.285714285714285}  <=50k      2\n",
              "13  {0: 19.571428571428573}  <=50k      7\n",
              "5    {0: 26.11111111111111}  <=50k      6\n",
              "38  {0: 53.142857142857146}   >50k      1\n",
              "34                {0: 37.2}   >50k      3\n",
              "40  {0: 58.857142857142854}   >50k      3\n",
              "36                {0: 42.4}   >50k      2\n",
              "4   {0: 52.888888888888886}   >50k      3\n",
              "42                {0: 55.0}   >50k      1\n",
              "2   {0: 40.285714285714285}   >50k      5\n",
              "30              {0: 39.125}   >50k      2\n",
              "6    {0: 26.11111111111111}   >50k      3\n",
              "8    {0: 31.90909090909091}   >50k      4\n",
              "27                {0: 32.0}   >50k      1\n",
              "25              {0: 48.375}   >50k      4\n",
              "23   {0: 49.38461538461539}   >50k      5\n",
              "21                {0: 41.4}   >50k      2\n",
              "12               {0: 30.25}   >50k      1\n",
              "19                {0: 41.2}   >50k      2\n",
              "17  {0: 32.666666666666664}   >50k      1\n",
              "32              {0: 44.375}   >50k      3\n",
              "44                {0: 72.4}   >50k      1"
            ]
          },
          "execution_count": 66,
          "metadata": {},
          "output_type": "execute_result"
        }
      ],
      "source": [
        "# we sort the resulting dataframe using the feature columns and the sensitive attribute\n",
        "# print(feature_columns)\n",
        "# print(sensitive_column)\n",
        "# e=feature_columns+[sensitive_column]\n",
        "# print(e)\n",
        "# dfn.sort_values(feature_columns+[sensitive_column])\n",
        "dfn.sort_values([sensitive_column])"
      ]
    },
    {
      "cell_type": "markdown",
      "metadata": {
        "id": "tZiuxg0gJiR-"
      },
      "source": [
        "# Implementing l-diversity (the naive way)\n",
        "\n",
        "Now let's see how we can implement l-diversity in order to protect the privacy of the persons in the dataset even better. To implement l-diversity, we can do the following things:\n",
        "\n",
        "* Modify our `is_valid` function to not only check for the size of a given partition but also ensure that the values of the sensitive attribute in the partition are diverse enough.\n",
        "* Modify the `split` function to produce splits that are diverse (if possible)"
      ]
    },
    {
      "cell_type": "markdown",
      "metadata": {
        "id": "2d1AlgKBJiR-"
      },
      "source": [
        "**Implement a validator function that returns `True` if a given partition contains at least `l` different values of the sensitive attribute, `False` otherwise.**"
      ]
    },
    {
      "cell_type": "code",
      "execution_count": null,
      "metadata": {
        "id": "Q4Itt2uXJiR_"
      },
      "outputs": [],
      "source": [
        "def diversity(df, partition, column):\n",
        "    return len(df[column][partition].unique())\n",
        "\n",
        "def is_l_diverse(df, partition, sensitive_column, l=2):\n",
        "    \"\"\"\n",
        "    :param               df: The dataframe for which to check l-diversity\n",
        "    :param        partition: The partition of the dataframe on which to check l-diversity\n",
        "    :param sensitive_column: The name of the sensitive column\n",
        "    :param                l: The minimum required diversity of sensitive attribute values in the partition\n",
        "    \"\"\"\n",
        "    return diversity(df, partition, sensitive_column) >= l"
      ]
    },
    {
      "cell_type": "code",
      "execution_count": null,
      "metadata": {
        "id": "LqRR5qttJiR_"
      },
      "outputs": [],
      "source": [
        "# now let's apply this method to our data and see how the result changes\n",
        "finished_l_diverse_partitions = partition_dataset(df, feature_columns, sensitive_column, full_spans, lambda *args: is_k_anonymous(*args) and is_l_diverse(*args))"
      ]
    },
    {
      "cell_type": "code",
      "execution_count": null,
      "metadata": {
        "id": "tJyoyWdRJiR_"
      },
      "outputs": [
        {
          "data": {
            "text/plain": [
              "18"
            ]
          },
          "execution_count": 69,
          "metadata": {},
          "output_type": "execute_result"
        }
      ],
      "source": [
        "len(finished_l_diverse_partitions)"
      ]
    },
    {
      "cell_type": "code",
      "execution_count": null,
      "metadata": {
        "id": "20qCqksoJiSA"
      },
      "outputs": [],
      "source": [
        "column_x, column_y = feature_columns[:2]\n",
        "l_diverse_rects = get_partition_rects(df, finished_l_diverse_partitions, column_x, column_y, indexes, offsets=[0.0, 0.0])"
      ]
    },
    {
      "cell_type": "code",
      "execution_count": null,
      "metadata": {
        "id": "JdaoTZyiJiSA"
      },
      "outputs": [
        {
          "data": {
            "image/png": "[encoded data removed]",
            "text/plain": [
              "<Figure size 1440x1440 with 1 Axes>"
            ]
          },
          "metadata": {
            "needs_background": "light"
          },
          "output_type": "display_data"
        }
      ],
      "source": [
        "pl.figure(figsize=(20,20))\n",
        "ax = pl.subplot(111)\n",
        "plot_rects(df, ax, l_diverse_rects, column_x, column_y, edgecolor='b', facecolor='b')\n",
        "plot_rects(df, ax, rects, column_x, column_y, facecolor='r')\n",
        "pl.scatter(df[column_x], df[column_y])\n",
        "pl.show()"
      ]
    },
    {
      "cell_type": "code",
      "execution_count": null,
      "metadata": {
        "id": "RDnGd87AJiSB"
      },
      "outputs": [
        {
          "name": "stdout",
          "output_type": "stream",
          "text": [
            "Finished 1 partitions...\n"
          ]
        }
      ],
      "source": [
        "# again we build an anonymized dataset from the l-diverse partitions\n",
        "dfl = build_anonymized_dataset(df, finished_l_diverse_partitions, feature_columns, sensitive_column)"
      ]
    },
    {
      "cell_type": "code",
      "execution_count": null,
      "metadata": {
        "id": "FoBPKzLvJiSC"
      },
      "outputs": [
        {
          "data": {
            "text/html": [
              "<div>\n",
              "<style scoped>\n",
              "    .dataframe tbody tr th:only-of-type {\n",
              "        vertical-align: middle;\n",
              "    }\n",
              "\n",
              "    .dataframe tbody tr th {\n",
              "        vertical-align: top;\n",
              "    }\n",
              "\n",
              "    .dataframe thead th {\n",
              "        text-align: right;\n",
              "    }\n",
              "</style>\n",
              "<table border=\"1\" class=\"dataframe\">\n",
              "  <thead>\n",
              "    <tr style=\"text-align: right;\">\n",
              "      <th></th>\n",
              "      <th>0</th>\n",
              "      <th>income</th>\n",
              "      <th>count</th>\n",
              "    </tr>\n",
              "  </thead>\n",
              "  <tbody>\n",
              "    <tr>\n",
              "      <th>0</th>\n",
              "      <td>{0: 25.54054054054054}</td>\n",
              "      <td>&lt;=50k</td>\n",
              "      <td>36</td>\n",
              "    </tr>\n",
              "    <tr>\n",
              "      <th>20</th>\n",
              "      <td>{0: 39.125}</td>\n",
              "      <td>&lt;=50k</td>\n",
              "      <td>6</td>\n",
              "    </tr>\n",
              "    <tr>\n",
              "      <th>18</th>\n",
              "      <td>{0: 48.375}</td>\n",
              "      <td>&lt;=50k</td>\n",
              "      <td>4</td>\n",
              "    </tr>\n",
              "    <tr>\n",
              "      <th>34</th>\n",
              "      <td>{0: 72.4}</td>\n",
              "      <td>&lt;=50k</td>\n",
              "      <td>4</td>\n",
              "    </tr>\n",
              "    <tr>\n",
              "      <th>16</th>\n",
              "      <td>{0: 49.38461538461539}</td>\n",
              "      <td>&lt;=50k</td>\n",
              "      <td>8</td>\n",
              "    </tr>\n",
              "    <tr>\n",
              "      <th>26</th>\n",
              "      <td>{0: 42.4}</td>\n",
              "      <td>&lt;=50k</td>\n",
              "      <td>3</td>\n",
              "    </tr>\n",
              "    <tr>\n",
              "      <th>14</th>\n",
              "      <td>{0: 41.4}</td>\n",
              "      <td>&lt;=50k</td>\n",
              "      <td>3</td>\n",
              "    </tr>\n",
              "    <tr>\n",
              "      <th>12</th>\n",
              "      <td>{0: 41.2}</td>\n",
              "      <td>&lt;=50k</td>\n",
              "      <td>8</td>\n",
              "    </tr>\n",
              "    <tr>\n",
              "      <th>24</th>\n",
              "      <td>{0: 37.2}</td>\n",
              "      <td>&lt;=50k</td>\n",
              "      <td>2</td>\n",
              "    </tr>\n",
              "    <tr>\n",
              "      <th>10</th>\n",
              "      <td>{0: 31.90909090909091}</td>\n",
              "      <td>&lt;=50k</td>\n",
              "      <td>7</td>\n",
              "    </tr>\n",
              "    <tr>\n",
              "      <th>28</th>\n",
              "      <td>{0: 53.142857142857146}</td>\n",
              "      <td>&lt;=50k</td>\n",
              "      <td>6</td>\n",
              "    </tr>\n",
              "    <tr>\n",
              "      <th>8</th>\n",
              "      <td>{0: 26.11111111111111}</td>\n",
              "      <td>&lt;=50k</td>\n",
              "      <td>6</td>\n",
              "    </tr>\n",
              "    <tr>\n",
              "      <th>30</th>\n",
              "      <td>{0: 58.857142857142854}</td>\n",
              "      <td>&lt;=50k</td>\n",
              "      <td>4</td>\n",
              "    </tr>\n",
              "    <tr>\n",
              "      <th>6</th>\n",
              "      <td>{0: 52.888888888888886}</td>\n",
              "      <td>&lt;=50k</td>\n",
              "      <td>6</td>\n",
              "    </tr>\n",
              "    <tr>\n",
              "      <th>4</th>\n",
              "      <td>{0: 40.285714285714285}</td>\n",
              "      <td>&lt;=50k</td>\n",
              "      <td>2</td>\n",
              "    </tr>\n",
              "    <tr>\n",
              "      <th>32</th>\n",
              "      <td>{0: 55.0}</td>\n",
              "      <td>&lt;=50k</td>\n",
              "      <td>4</td>\n",
              "    </tr>\n",
              "    <tr>\n",
              "      <th>2</th>\n",
              "      <td>{0: 28.1}</td>\n",
              "      <td>&lt;=50k</td>\n",
              "      <td>38</td>\n",
              "    </tr>\n",
              "    <tr>\n",
              "      <th>22</th>\n",
              "      <td>{0: 44.375}</td>\n",
              "      <td>&lt;=50k</td>\n",
              "      <td>5</td>\n",
              "    </tr>\n",
              "    <tr>\n",
              "      <th>27</th>\n",
              "      <td>{0: 42.4}</td>\n",
              "      <td>&gt;50k</td>\n",
              "      <td>2</td>\n",
              "    </tr>\n",
              "    <tr>\n",
              "      <th>31</th>\n",
              "      <td>{0: 58.857142857142854}</td>\n",
              "      <td>&gt;50k</td>\n",
              "      <td>3</td>\n",
              "    </tr>\n",
              "    <tr>\n",
              "      <th>25</th>\n",
              "      <td>{0: 37.2}</td>\n",
              "      <td>&gt;50k</td>\n",
              "      <td>3</td>\n",
              "    </tr>\n",
              "    <tr>\n",
              "      <th>33</th>\n",
              "      <td>{0: 55.0}</td>\n",
              "      <td>&gt;50k</td>\n",
              "      <td>1</td>\n",
              "    </tr>\n",
              "    <tr>\n",
              "      <th>29</th>\n",
              "      <td>{0: 53.142857142857146}</td>\n",
              "      <td>&gt;50k</td>\n",
              "      <td>1</td>\n",
              "    </tr>\n",
              "    <tr>\n",
              "      <th>17</th>\n",
              "      <td>{0: 49.38461538461539}</td>\n",
              "      <td>&gt;50k</td>\n",
              "      <td>5</td>\n",
              "    </tr>\n",
              "    <tr>\n",
              "      <th>21</th>\n",
              "      <td>{0: 39.125}</td>\n",
              "      <td>&gt;50k</td>\n",
              "      <td>2</td>\n",
              "    </tr>\n",
              "    <tr>\n",
              "      <th>19</th>\n",
              "      <td>{0: 48.375}</td>\n",
              "      <td>&gt;50k</td>\n",
              "      <td>4</td>\n",
              "    </tr>\n",
              "    <tr>\n",
              "      <th>15</th>\n",
              "      <td>{0: 41.4}</td>\n",
              "      <td>&gt;50k</td>\n",
              "      <td>2</td>\n",
              "    </tr>\n",
              "    <tr>\n",
              "      <th>13</th>\n",
              "      <td>{0: 41.2}</td>\n",
              "      <td>&gt;50k</td>\n",
              "      <td>2</td>\n",
              "    </tr>\n",
              "    <tr>\n",
              "      <th>11</th>\n",
              "      <td>{0: 31.90909090909091}</td>\n",
              "      <td>&gt;50k</td>\n",
              "      <td>4</td>\n",
              "    </tr>\n",
              "    <tr>\n",
              "      <th>9</th>\n",
              "      <td>{0: 26.11111111111111}</td>\n",
              "      <td>&gt;50k</td>\n",
              "      <td>3</td>\n",
              "    </tr>\n",
              "    <tr>\n",
              "      <th>7</th>\n",
              "      <td>{0: 52.888888888888886}</td>\n",
              "      <td>&gt;50k</td>\n",
              "      <td>3</td>\n",
              "    </tr>\n",
              "    <tr>\n",
              "      <th>5</th>\n",
              "      <td>{0: 40.285714285714285}</td>\n",
              "      <td>&gt;50k</td>\n",
              "      <td>5</td>\n",
              "    </tr>\n",
              "    <tr>\n",
              "      <th>3</th>\n",
              "      <td>{0: 28.1}</td>\n",
              "      <td>&gt;50k</td>\n",
              "      <td>2</td>\n",
              "    </tr>\n",
              "    <tr>\n",
              "      <th>1</th>\n",
              "      <td>{0: 25.54054054054054}</td>\n",
              "      <td>&gt;50k</td>\n",
              "      <td>1</td>\n",
              "    </tr>\n",
              "    <tr>\n",
              "      <th>23</th>\n",
              "      <td>{0: 44.375}</td>\n",
              "      <td>&gt;50k</td>\n",
              "      <td>3</td>\n",
              "    </tr>\n",
              "    <tr>\n",
              "      <th>35</th>\n",
              "      <td>{0: 72.4}</td>\n",
              "      <td>&gt;50k</td>\n",
              "      <td>1</td>\n",
              "    </tr>\n",
              "  </tbody>\n",
              "</table>\n",
              "</div>"
            ],
            "text/plain": [
              "                          0 income  count\n",
              "0    {0: 25.54054054054054}  <=50k     36\n",
              "20              {0: 39.125}  <=50k      6\n",
              "18              {0: 48.375}  <=50k      4\n",
              "34                {0: 72.4}  <=50k      4\n",
              "16   {0: 49.38461538461539}  <=50k      8\n",
              "26                {0: 42.4}  <=50k      3\n",
              "14                {0: 41.4}  <=50k      3\n",
              "12                {0: 41.2}  <=50k      8\n",
              "24                {0: 37.2}  <=50k      2\n",
              "10   {0: 31.90909090909091}  <=50k      7\n",
              "28  {0: 53.142857142857146}  <=50k      6\n",
              "8    {0: 26.11111111111111}  <=50k      6\n",
              "30  {0: 58.857142857142854}  <=50k      4\n",
              "6   {0: 52.888888888888886}  <=50k      6\n",
              "4   {0: 40.285714285714285}  <=50k      2\n",
              "32                {0: 55.0}  <=50k      4\n",
              "2                 {0: 28.1}  <=50k     38\n",
              "22              {0: 44.375}  <=50k      5\n",
              "27                {0: 42.4}   >50k      2\n",
              "31  {0: 58.857142857142854}   >50k      3\n",
              "25                {0: 37.2}   >50k      3\n",
              "33                {0: 55.0}   >50k      1\n",
              "29  {0: 53.142857142857146}   >50k      1\n",
              "17   {0: 49.38461538461539}   >50k      5\n",
              "21              {0: 39.125}   >50k      2\n",
              "19              {0: 48.375}   >50k      4\n",
              "15                {0: 41.4}   >50k      2\n",
              "13                {0: 41.2}   >50k      2\n",
              "11   {0: 31.90909090909091}   >50k      4\n",
              "9    {0: 26.11111111111111}   >50k      3\n",
              "7   {0: 52.888888888888886}   >50k      3\n",
              "5   {0: 40.285714285714285}   >50k      5\n",
              "3                 {0: 28.1}   >50k      2\n",
              "1    {0: 25.54054054054054}   >50k      1\n",
              "23              {0: 44.375}   >50k      3\n",
              "35                {0: 72.4}   >50k      1"
            ]
          },
          "execution_count": 73,
          "metadata": {},
          "output_type": "execute_result"
        }
      ],
      "source": [
        "# Let's see how l-diversity improves the anonymity of our dataset\n",
        "# dfl.sort_values([column_x, column_y, sensitive_column])\n",
        "dfl.sort_values([ sensitive_column])"
      ]
    },
    {
      "cell_type": "markdown",
      "metadata": {
        "id": "BY2lwRYRJiSC"
      },
      "source": [
        "# Implementing t-closeness\n",
        "\n",
        "As we can see, for regions where the value diversity is low, our l-diverse method produces partitions that contain a very large number of entries for one value of the sensitive attribute and only one entry for the other value. This is not ideal as while there is \"plausible deniability\" for a person in the dataset (after all the person could be the one \"outlier\") but an adversary can still be very certain about the person's attribute value in that case.\n",
        "\n",
        "t-closeness solves this problem by making sure that the distribution of sensitive attribute values in a given partition is similar to the distribution of the values in the overall dataset."
      ]
    },
    {
      "cell_type": "markdown",
      "metadata": {
        "id": "uyTI3zhQJiSC"
      },
      "source": [
        "**Implement a version of the `is_valid` function that returns `True` if the partition is diverse enough and `False` otherwise. To measure diversity, calculate the Kolmogorov-Smirnov distance between the empirical\n",
        "probability distribution of the sensitive attribute over the entire dataset vs. the distribution over\n",
        "the partition. Hint: the Kolmogorov-Smirnov distance is the maximum distance between the two distributions.\n",
        "You can assume that the sensitive attribute is a categorical value.**"
      ]
    },
    {
      "cell_type": "code",
      "execution_count": null,
      "metadata": {
        "id": "4JcYarydJiSD"
      },
      "outputs": [],
      "source": [
        "# here we generate the global frequencies for the sensitive column \n",
        "global_freqs = {}\n",
        "total_count = float(len(df))\n",
        "group_counts = df.groupby(sensitive_column)[sensitive_column].agg('count')\n",
        "for value, count in group_counts.to_dict().items():\n",
        "    p = count/total_count\n",
        "    global_freqs[value] = p"
      ]
    },
    {
      "cell_type": "code",
      "execution_count": null,
      "metadata": {
        "id": "m5S-wxe5JiSD"
      },
      "outputs": [
        {
          "data": {
            "text/plain": [
              "{'<=50k': 0.7638190954773869, '>50k': 0.23618090452261306}"
            ]
          },
          "execution_count": 75,
          "metadata": {},
          "output_type": "execute_result"
        }
      ],
      "source": [
        "global_freqs"
      ]
    },
    {
      "cell_type": "code",
      "execution_count": null,
      "metadata": {
        "id": "q2eoQqVxJiSD"
      },
      "outputs": [],
      "source": [
        "def t_closeness(df, partition, column, global_freqs):\n",
        "    total_count = float(len(partition))\n",
        "    d_max = None\n",
        "    group_counts = df.loc[partition].groupby(column)[column].agg('count')\n",
        "    for value, count in group_counts.to_dict().items():\n",
        "        p = count/total_count\n",
        "        d = abs(p-global_freqs[value])\n",
        "        if d_max is None or d > d_max:\n",
        "            d_max = d\n",
        "    return d_max\n",
        "\n",
        "\n",
        "def is_t_close(df, partition, sensitive_column, global_freqs, p=0.2):\n",
        "    \"\"\"\n",
        "    :param               df: The dataframe for which to check l-diversity\n",
        "    :param        partition: The partition of the dataframe on which to check l-diversity\n",
        "    :param sensitive_column: The name of the sensitive column\n",
        "    :param     global_freqs: The global frequencies of the sensitive attribute values\n",
        "    :param                p: The maximum allowed Kolmogorov-Smirnov distance\n",
        "    \"\"\"\n",
        "    if not sensitive_column in categorical:\n",
        "        raise ValueError(\"this method only works for categorical values\")\n",
        "    return t_closeness(df, partition, sensitive_column, global_freqs) <= p"
      ]
    },
    {
      "cell_type": "code",
      "execution_count": null,
      "metadata": {
        "id": "0KXTot4HJiSE"
      },
      "outputs": [],
      "source": [
        "# Let's apply this to our dataset\n",
        "finished_t_close_partitions = partition_dataset(df, feature_columns, sensitive_column, full_spans, lambda *args: is_k_anonymous(*args) and is_t_close(*args, global_freqs))"
      ]
    },
    {
      "cell_type": "code",
      "execution_count": null,
      "metadata": {
        "id": "tEA49E_TJiSE"
      },
      "outputs": [
        {
          "data": {
            "text/plain": [
              "6"
            ]
          },
          "execution_count": 78,
          "metadata": {},
          "output_type": "execute_result"
        }
      ],
      "source": [
        "len(finished_t_close_partitions)"
      ]
    },
    {
      "cell_type": "code",
      "execution_count": null,
      "metadata": {
        "id": "Sd-tiBDzJiSF"
      },
      "outputs": [
        {
          "name": "stdout",
          "output_type": "stream",
          "text": [
            "Finished 1 partitions...\n"
          ]
        }
      ],
      "source": [
        "dft = build_anonymized_dataset(df, finished_t_close_partitions, feature_columns, sensitive_column)"
      ]
    },
    {
      "cell_type": "code",
      "execution_count": null,
      "metadata": {
        "id": "CrxyoxDFJiSF"
      },
      "outputs": [
        {
          "data": {
            "text/html": [
              "<div>\n",
              "<style scoped>\n",
              "    .dataframe tbody tr th:only-of-type {\n",
              "        vertical-align: middle;\n",
              "    }\n",
              "\n",
              "    .dataframe tbody tr th {\n",
              "        vertical-align: top;\n",
              "    }\n",
              "\n",
              "    .dataframe thead th {\n",
              "        text-align: right;\n",
              "    }\n",
              "</style>\n",
              "<table border=\"1\" class=\"dataframe\">\n",
              "  <thead>\n",
              "    <tr style=\"text-align: right;\">\n",
              "      <th></th>\n",
              "      <th>0</th>\n",
              "      <th>income</th>\n",
              "      <th>count</th>\n",
              "    </tr>\n",
              "  </thead>\n",
              "  <tbody>\n",
              "    <tr>\n",
              "      <th>0</th>\n",
              "      <td>{0: 27.371134020618555}</td>\n",
              "      <td>&lt;=50k</td>\n",
              "      <td>87</td>\n",
              "    </tr>\n",
              "    <tr>\n",
              "      <th>2</th>\n",
              "      <td>{0: 54.5}</td>\n",
              "      <td>&lt;=50k</td>\n",
              "      <td>34</td>\n",
              "    </tr>\n",
              "    <tr>\n",
              "      <th>4</th>\n",
              "      <td>{0: 38.45454545454545}</td>\n",
              "      <td>&lt;=50k</td>\n",
              "      <td>13</td>\n",
              "    </tr>\n",
              "    <tr>\n",
              "      <th>6</th>\n",
              "      <td>{0: 43.13333333333333}</td>\n",
              "      <td>&lt;=50k</td>\n",
              "      <td>10</td>\n",
              "    </tr>\n",
              "    <tr>\n",
              "      <th>8</th>\n",
              "      <td>{0: 43.8}</td>\n",
              "      <td>&lt;=50k</td>\n",
              "      <td>3</td>\n",
              "    </tr>\n",
              "    <tr>\n",
              "      <th>10</th>\n",
              "      <td>{0: 43.375}</td>\n",
              "      <td>&lt;=50k</td>\n",
              "      <td>5</td>\n",
              "    </tr>\n",
              "    <tr>\n",
              "      <th>1</th>\n",
              "      <td>{0: 27.371134020618555}</td>\n",
              "      <td>&gt;50k</td>\n",
              "      <td>10</td>\n",
              "    </tr>\n",
              "    <tr>\n",
              "      <th>3</th>\n",
              "      <td>{0: 54.5}</td>\n",
              "      <td>&gt;50k</td>\n",
              "      <td>18</td>\n",
              "    </tr>\n",
              "    <tr>\n",
              "      <th>5</th>\n",
              "      <td>{0: 38.45454545454545}</td>\n",
              "      <td>&gt;50k</td>\n",
              "      <td>9</td>\n",
              "    </tr>\n",
              "    <tr>\n",
              "      <th>7</th>\n",
              "      <td>{0: 43.13333333333333}</td>\n",
              "      <td>&gt;50k</td>\n",
              "      <td>5</td>\n",
              "    </tr>\n",
              "    <tr>\n",
              "      <th>9</th>\n",
              "      <td>{0: 43.8}</td>\n",
              "      <td>&gt;50k</td>\n",
              "      <td>2</td>\n",
              "    </tr>\n",
              "    <tr>\n",
              "      <th>11</th>\n",
              "      <td>{0: 43.375}</td>\n",
              "      <td>&gt;50k</td>\n",
              "      <td>3</td>\n",
              "    </tr>\n",
              "  </tbody>\n",
              "</table>\n",
              "</div>"
            ],
            "text/plain": [
              "                          0 income  count\n",
              "0   {0: 27.371134020618555}  <=50k     87\n",
              "2                 {0: 54.5}  <=50k     34\n",
              "4    {0: 38.45454545454545}  <=50k     13\n",
              "6    {0: 43.13333333333333}  <=50k     10\n",
              "8                 {0: 43.8}  <=50k      3\n",
              "10              {0: 43.375}  <=50k      5\n",
              "1   {0: 27.371134020618555}   >50k     10\n",
              "3                 {0: 54.5}   >50k     18\n",
              "5    {0: 38.45454545454545}   >50k      9\n",
              "7    {0: 43.13333333333333}   >50k      5\n",
              "9                 {0: 43.8}   >50k      2\n",
              "11              {0: 43.375}   >50k      3"
            ]
          },
          "execution_count": 80,
          "metadata": {},
          "output_type": "execute_result"
        }
      ],
      "source": [
        "# Let's see how t-closeness fares\n",
        "# dft.sort_values([column_x, column_y, sensitive_column])\n",
        "dft.sort_values([ sensitive_column])"
      ]
    },
    {
      "cell_type": "code",
      "execution_count": null,
      "metadata": {
        "id": "SnEUEo2jJiSF"
      },
      "outputs": [],
      "source": [
        "column_x, column_y = feature_columns[:2]\n",
        "t_close_rects = get_partition_rects(df, finished_t_close_partitions, column_x, column_y, indexes, offsets=[0.0, 0.0])"
      ]
    },
    {
      "cell_type": "code",
      "execution_count": null,
      "metadata": {
        "id": "93niFdZrJiSG"
      },
      "outputs": [
        {
          "data": {
            "image/png": "[encoded data removed]",
            "text/plain": [
              "<Figure size 1440x1440 with 1 Axes>"
            ]
          },
          "metadata": {
            "needs_background": "light"
          },
          "output_type": "display_data"
        }
      ],
      "source": [
        "pl.figure(figsize=(20,20))\n",
        "ax = pl.subplot(111)\n",
        "plot_rects(df, ax, t_close_rects, column_x, column_y, edgecolor='b', facecolor='b')\n",
        "pl.scatter(df[column_x], df[column_y])\n",
        "pl.show()"
      ]
    }
  ],
  "metadata": {
    "colab": {
      "collapsed_sections": [
        "tZiuxg0gJiR-",
        "BY2lwRYRJiSC"
      ],
      "name": "k-Anonymity_new_data.ipynb",
      "provenance": []
    },
    "kernelspec": {
      "display_name": "Python 3",
      "language": "python",
      "name": "python3"
    },
    "language_info": {
      "codemirror_mode": {
        "name": "ipython",
        "version": 3
      },
      "file_extension": ".py",
      "mimetype": "text/x-python",
      "name": "python",
      "nbconvert_exporter": "python",
      "pygments_lexer": "ipython3",
      "version": "3.8.9"
    }
  },
  "nbformat": 4,
  "nbformat_minor": 0
}
